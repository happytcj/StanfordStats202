{
 "cells": [
  {
   "cell_type": "code",
   "execution_count": 1,
   "metadata": {
    "collapsed": false,
    "deletable": true,
    "editable": true
   },
   "outputs": [
    {
     "data": {
      "application/javascript": [
       "IPython.notebook.set_autosave_interval(300000)"
      ]
     },
     "metadata": {},
     "output_type": "display_data"
    },
    {
     "name": "stdout",
     "output_type": "stream",
     "text": [
      "Autosaving every 300 seconds\n"
     ]
    }
   ],
   "source": [
    "import matplotlib.pyplot as plt\n",
    "# import seaborn as sns\n",
    "import numpy as np \n",
    "import os\n",
    "import pandas as pd\n",
    "%matplotlib inline\n",
    "%autosave 300\n",
    "%load_ext autoreload\n",
    "%autoreload 2\n",
    "\n",
    "from sklearn.neighbors import KNeighborsClassifier\n",
    "from pandas.tools.plotting import scatter_matrix\n",
    "from sklearn.model_selection import KFold\n",
    "from sklearn.naive_bayes import GaussianNB\n",
    "\n",
    "\n",
    "plt.rcParams['figure.figsize'] = (16, 8)\n",
    "# plt.rcParams['font.size'] = 16\n",
    "# plt.rcParams['text.usetex'] = False\n",
    "# plt.rcParams['axes.labelsize'] = plt.rcParams['font.size']\n",
    "# plt.rcParams['axes.titlesize'] = 1.5*plt.rcParams['font.size']\n",
    "# plt.rcParams['legend.fontsize'] = 16\n",
    "# plt.rcParams[\"figure.facecolor\"] = 'white'"
   ]
  },
  {
   "cell_type": "code",
   "execution_count": 2,
   "metadata": {
    "collapsed": false,
    "deletable": true,
    "editable": true
   },
   "outputs": [],
   "source": [
    "df_train = pd.read_csv('/Users/tjiang/Desktop/Personal/Stats202/my_repo/Final_Project/data/training.csv', delimiter=',')\n",
    "df_test = pd.read_csv('/Users/tjiang/Desktop/Personal/Stats202/my_repo/Final_Project/data/test.csv', delimiter=',')"
   ]
  },
  {
   "cell_type": "code",
   "execution_count": 3,
   "metadata": {
    "collapsed": false,
    "deletable": true,
    "editable": true
   },
   "outputs": [
    {
     "data": {
      "text/html": [
       "<div>\n",
       "<table border=\"1\" class=\"dataframe\">\n",
       "  <thead>\n",
       "    <tr style=\"text-align: right;\">\n",
       "      <th></th>\n",
       "      <th>query_id</th>\n",
       "      <th>url_id</th>\n",
       "      <th>query_length</th>\n",
       "      <th>is_homepage</th>\n",
       "      <th>sig1</th>\n",
       "      <th>sig2</th>\n",
       "      <th>sig3</th>\n",
       "      <th>sig4</th>\n",
       "      <th>sig5</th>\n",
       "      <th>sig6</th>\n",
       "      <th>sig7</th>\n",
       "      <th>sig8</th>\n",
       "      <th>relevance</th>\n",
       "    </tr>\n",
       "  </thead>\n",
       "  <tbody>\n",
       "    <tr>\n",
       "      <th>0</th>\n",
       "      <td>4631</td>\n",
       "      <td>28624</td>\n",
       "      <td>2</td>\n",
       "      <td>1</td>\n",
       "      <td>0.09</td>\n",
       "      <td>0.15</td>\n",
       "      <td>1288</td>\n",
       "      <td>352</td>\n",
       "      <td>376</td>\n",
       "      <td>13</td>\n",
       "      <td>0.46</td>\n",
       "      <td>0.35</td>\n",
       "      <td>0</td>\n",
       "    </tr>\n",
       "    <tr>\n",
       "      <th>1</th>\n",
       "      <td>4631</td>\n",
       "      <td>28625</td>\n",
       "      <td>2</td>\n",
       "      <td>1</td>\n",
       "      <td>0.20</td>\n",
       "      <td>0.35</td>\n",
       "      <td>4662</td>\n",
       "      <td>337</td>\n",
       "      <td>666</td>\n",
       "      <td>28</td>\n",
       "      <td>0.43</td>\n",
       "      <td>0.27</td>\n",
       "      <td>1</td>\n",
       "    </tr>\n",
       "    <tr>\n",
       "      <th>2</th>\n",
       "      <td>4631</td>\n",
       "      <td>28626</td>\n",
       "      <td>2</td>\n",
       "      <td>1</td>\n",
       "      <td>0.36</td>\n",
       "      <td>0.49</td>\n",
       "      <td>1121</td>\n",
       "      <td>385</td>\n",
       "      <td>270</td>\n",
       "      <td>15</td>\n",
       "      <td>0.34</td>\n",
       "      <td>0.20</td>\n",
       "      <td>1</td>\n",
       "    </tr>\n",
       "    <tr>\n",
       "      <th>3</th>\n",
       "      <td>4631</td>\n",
       "      <td>28627</td>\n",
       "      <td>2</td>\n",
       "      <td>1</td>\n",
       "      <td>0.21</td>\n",
       "      <td>0.45</td>\n",
       "      <td>2925</td>\n",
       "      <td>478</td>\n",
       "      <td>640</td>\n",
       "      <td>14</td>\n",
       "      <td>0.44</td>\n",
       "      <td>0.33</td>\n",
       "      <td>1</td>\n",
       "    </tr>\n",
       "    <tr>\n",
       "      <th>4</th>\n",
       "      <td>4631</td>\n",
       "      <td>28628</td>\n",
       "      <td>2</td>\n",
       "      <td>1</td>\n",
       "      <td>0.25</td>\n",
       "      <td>0.42</td>\n",
       "      <td>1328</td>\n",
       "      <td>429</td>\n",
       "      <td>412</td>\n",
       "      <td>27</td>\n",
       "      <td>0.40</td>\n",
       "      <td>0.57</td>\n",
       "      <td>1</td>\n",
       "    </tr>\n",
       "  </tbody>\n",
       "</table>\n",
       "</div>"
      ],
      "text/plain": [
       "   query_id  url_id  query_length  is_homepage  sig1  sig2  sig3  sig4  sig5  \\\n",
       "0      4631   28624             2            1  0.09  0.15  1288   352   376   \n",
       "1      4631   28625             2            1  0.20  0.35  4662   337   666   \n",
       "2      4631   28626             2            1  0.36  0.49  1121   385   270   \n",
       "3      4631   28627             2            1  0.21  0.45  2925   478   640   \n",
       "4      4631   28628             2            1  0.25  0.42  1328   429   412   \n",
       "\n",
       "   sig6  sig7  sig8  relevance  \n",
       "0    13  0.46  0.35          0  \n",
       "1    28  0.43  0.27          1  \n",
       "2    15  0.34  0.20          1  \n",
       "3    14  0.44  0.33          1  \n",
       "4    27  0.40  0.57          1  "
      ]
     },
     "execution_count": 3,
     "metadata": {},
     "output_type": "execute_result"
    }
   ],
   "source": [
    "df_train.head()"
   ]
  },
  {
   "cell_type": "code",
   "execution_count": 4,
   "metadata": {
    "collapsed": false,
    "deletable": true,
    "editable": true,
    "scrolled": true
   },
   "outputs": [
    {
     "data": {
      "text/html": [
       "<div>\n",
       "<table border=\"1\" class=\"dataframe\">\n",
       "  <thead>\n",
       "    <tr style=\"text-align: right;\">\n",
       "      <th></th>\n",
       "      <th>query_id</th>\n",
       "      <th>url_id</th>\n",
       "      <th>query_length</th>\n",
       "      <th>is_homepage</th>\n",
       "      <th>sig1</th>\n",
       "      <th>sig2</th>\n",
       "      <th>sig3</th>\n",
       "      <th>sig4</th>\n",
       "      <th>sig5</th>\n",
       "      <th>sig6</th>\n",
       "      <th>sig7</th>\n",
       "      <th>sig8</th>\n",
       "    </tr>\n",
       "  </thead>\n",
       "  <tbody>\n",
       "    <tr>\n",
       "      <th>0</th>\n",
       "      <td>0</td>\n",
       "      <td>0</td>\n",
       "      <td>4</td>\n",
       "      <td>0</td>\n",
       "      <td>0.13</td>\n",
       "      <td>0.33</td>\n",
       "      <td>0</td>\n",
       "      <td>1</td>\n",
       "      <td>0</td>\n",
       "      <td>0</td>\n",
       "      <td>0.19</td>\n",
       "      <td>0.47</td>\n",
       "    </tr>\n",
       "    <tr>\n",
       "      <th>1</th>\n",
       "      <td>0</td>\n",
       "      <td>1</td>\n",
       "      <td>4</td>\n",
       "      <td>0</td>\n",
       "      <td>0.12</td>\n",
       "      <td>0.40</td>\n",
       "      <td>247</td>\n",
       "      <td>477</td>\n",
       "      <td>4</td>\n",
       "      <td>0</td>\n",
       "      <td>0.22</td>\n",
       "      <td>0.59</td>\n",
       "    </tr>\n",
       "    <tr>\n",
       "      <th>2</th>\n",
       "      <td>0</td>\n",
       "      <td>2</td>\n",
       "      <td>4</td>\n",
       "      <td>0</td>\n",
       "      <td>0.15</td>\n",
       "      <td>0.41</td>\n",
       "      <td>303</td>\n",
       "      <td>313</td>\n",
       "      <td>44</td>\n",
       "      <td>0</td>\n",
       "      <td>0.20</td>\n",
       "      <td>0.81</td>\n",
       "    </tr>\n",
       "    <tr>\n",
       "      <th>3</th>\n",
       "      <td>0</td>\n",
       "      <td>3</td>\n",
       "      <td>4</td>\n",
       "      <td>0</td>\n",
       "      <td>0.06</td>\n",
       "      <td>0.35</td>\n",
       "      <td>1035</td>\n",
       "      <td>415</td>\n",
       "      <td>130</td>\n",
       "      <td>0</td>\n",
       "      <td>0.35</td>\n",
       "      <td>0.77</td>\n",
       "    </tr>\n",
       "    <tr>\n",
       "      <th>4</th>\n",
       "      <td>0</td>\n",
       "      <td>51</td>\n",
       "      <td>4</td>\n",
       "      <td>0</td>\n",
       "      <td>0.18</td>\n",
       "      <td>0.33</td>\n",
       "      <td>2</td>\n",
       "      <td>0</td>\n",
       "      <td>0</td>\n",
       "      <td>0</td>\n",
       "      <td>0.21</td>\n",
       "      <td>0.63</td>\n",
       "    </tr>\n",
       "  </tbody>\n",
       "</table>\n",
       "</div>"
      ],
      "text/plain": [
       "   query_id  url_id  query_length  is_homepage  sig1  sig2  sig3  sig4  sig5  \\\n",
       "0         0       0             4            0  0.13  0.33     0     1     0   \n",
       "1         0       1             4            0  0.12  0.40   247   477     4   \n",
       "2         0       2             4            0  0.15  0.41   303   313    44   \n",
       "3         0       3             4            0  0.06  0.35  1035   415   130   \n",
       "4         0      51             4            0  0.18  0.33     2     0     0   \n",
       "\n",
       "   sig6  sig7  sig8  \n",
       "0     0  0.19  0.47  \n",
       "1     0  0.22  0.59  \n",
       "2     0  0.20  0.81  \n",
       "3     0  0.35  0.77  \n",
       "4     0  0.21  0.63  "
      ]
     },
     "execution_count": 4,
     "metadata": {},
     "output_type": "execute_result"
    }
   ],
   "source": [
    "df_test.head()"
   ]
  },
  {
   "cell_type": "raw",
   "metadata": {
    "deletable": true,
    "editable": true
   },
   "source": [
    "Create training set and validation set using 10-fold as a first pass"
   ]
  },
  {
   "cell_type": "markdown",
   "metadata": {
    "deletable": true,
    "editable": true
   },
   "source": [
    "## Begin by visual inspection of data"
   ]
  },
  {
   "cell_type": "code",
   "execution_count": 5,
   "metadata": {
    "collapsed": false,
    "deletable": true,
    "editable": true
   },
   "outputs": [],
   "source": [
    "#Redraw to split predictor color\n",
    "from pandas.tools.plotting import scatter_matrix\n",
    "#Takes long time to run\n",
    "# scatter_matrix(df_train, alpha=0.2, figsize=(40, 40), diagonal='hist')\n",
    "pass"
   ]
  },
  {
   "cell_type": "markdown",
   "metadata": {
    "deletable": true,
    "editable": true
   },
   "source": [
    "## Naïve Bayes"
   ]
  },
  {
   "cell_type": "code",
   "execution_count": 6,
   "metadata": {
    "collapsed": false,
    "deletable": true,
    "editable": true
   },
   "outputs": [],
   "source": [
    "train_predictors = df_train.iloc[:, xrange(2,12)].as_matrix()\n",
    "train_response = df_train['relevance'].as_matrix()"
   ]
  },
  {
   "cell_type": "code",
   "execution_count": 7,
   "metadata": {
    "collapsed": false,
    "deletable": true,
    "editable": true
   },
   "outputs": [],
   "source": [
    "Ntrain,Ptrain = map(float, train_predictors.shape)"
   ]
  },
  {
   "cell_type": "code",
   "execution_count": 8,
   "metadata": {
    "collapsed": false,
    "deletable": true,
    "editable": true
   },
   "outputs": [
    {
     "name": "stdout",
     "output_type": "stream",
     "text": [
      "Number of mislabeled points out of a total 150 points : 6\n"
     ]
    }
   ],
   "source": [
    "from sklearn import datasets\n",
    "iris = datasets.load_iris()\n",
    "from sklearn.naive_bayes import GaussianNB\n",
    "gnb = GaussianNB()\n",
    "y_pred = gnb.fit(iris.data, iris.target).predict(iris.data)\n",
    "print(\"Number of mislabeled points out of a total %d points : %d\"\n",
    "    % (iris.data.shape[0],(iris.target != y_pred).sum()))"
   ]
  },
  {
   "cell_type": "code",
   "execution_count": 9,
   "metadata": {
    "collapsed": false,
    "deletable": true,
    "editable": true
   },
   "outputs": [
    {
     "data": {
      "text/plain": [
       "0.95999999999999996"
      ]
     },
     "execution_count": 9,
     "metadata": {},
     "output_type": "execute_result"
    }
   ],
   "source": [
    "gnb.score(iris.data, iris.target)"
   ]
  },
  {
   "cell_type": "code",
   "execution_count": 10,
   "metadata": {
    "collapsed": false,
    "deletable": true,
    "editable": true
   },
   "outputs": [
    {
     "name": "stdout",
     "output_type": "stream",
     "text": [
      "(80046, 10)\n",
      "(80046,)\n",
      "(30001, 12)\n",
      "(150, 4)\n",
      "(150,)\n"
     ]
    }
   ],
   "source": [
    "print train_predictors.shape\n",
    "print train_response.shape\n",
    "print df_test.shape\n",
    "print iris.data.shape\n",
    "print iris.target.shape"
   ]
  },
  {
   "cell_type": "code",
   "execution_count": 11,
   "metadata": {
    "collapsed": false,
    "deletable": true,
    "editable": true,
    "scrolled": true
   },
   "outputs": [
    {
     "name": "stdout",
     "output_type": "stream",
     "text": [
      "Number of mislabeled points out of a total 80046 points : 32756\n"
     ]
    }
   ],
   "source": [
    "gnb = GaussianNB()\n",
    "y_pred = gnb.fit(train_predictors, train_response).predict(train_predictors)\n",
    "print(\"Number of mislabeled points out of a total %d points : %d\"\n",
    "    % (train_predictors.shape[0], sum(y_pred != train_response)))"
   ]
  },
  {
   "cell_type": "code",
   "execution_count": 12,
   "metadata": {
    "collapsed": false,
    "deletable": true,
    "editable": true
   },
   "outputs": [
    {
     "name": "stdout",
     "output_type": "stream",
     "text": [
      "Number of mislabeled points out of a total 80046 points : 30654\n"
     ]
    }
   ],
   "source": [
    "from sklearn.naive_bayes import BernoulliNB\n",
    "gnb = BernoulliNB()\n",
    "y_pred = gnb.fit(train_predictors, train_response).predict(train_predictors)\n",
    "# print(\"Number of mislabeled points out of a total %d points : %d\"\n",
    "#     % (train_predictors.shape[0], (train_response != y_pred).sum()))\n",
    "print(\"Number of mislabeled points out of a total %d points : %d\"\n",
    "    % (train_predictors.shape[0], sum(y_pred != train_response)))"
   ]
  },
  {
   "cell_type": "markdown",
   "metadata": {
    "deletable": true,
    "editable": true
   },
   "source": [
    "**10-Fold Cross Validation**"
   ]
  },
  {
   "cell_type": "code",
   "execution_count": 13,
   "metadata": {
    "collapsed": false,
    "deletable": true,
    "editable": true
   },
   "outputs": [
    {
     "name": "stdout",
     "output_type": "stream",
     "text": [
      "Percent of mislabeled points out of a total 15 points : 0.00\n",
      "Percent of mislabeled points out of a total 15 points : 0.00\n",
      "Percent of mislabeled points out of a total 15 points : 0.00\n",
      "Percent of mislabeled points out of a total 15 points : 6.67\n",
      "Percent of mislabeled points out of a total 15 points : 6.67\n",
      "Percent of mislabeled points out of a total 15 points : 13.33\n",
      "Percent of mislabeled points out of a total 15 points : 0.00\n",
      "Percent of mislabeled points out of a total 15 points : 13.33\n",
      "Percent of mislabeled points out of a total 15 points : 13.33\n",
      "Percent of mislabeled points out of a total 15 points : 0.00\n"
     ]
    }
   ],
   "source": [
    "from sklearn.model_selection import KFold\n",
    "\n",
    "kf = KFold(n_splits=10)\n",
    "for train_index, test_index in kf.split(iris.data):\n",
    "    X_train, X_test = iris.data[train_index], iris.data[test_index]\n",
    "    y_train, y_test = iris.target[train_index], iris.target[test_index]\n",
    "    gnb = GaussianNB()\n",
    "    y_pred = gnb.fit(X_train, y_train).predict(X_test)\n",
    "    print(\"Percent of mislabeled points out of a total %d points : %0.2f\"\n",
    "        % (X_test.shape[0], 100*(y_test != y_pred).sum()/float(X_test.shape[0])))"
   ]
  },
  {
   "cell_type": "code",
   "execution_count": 14,
   "metadata": {
    "collapsed": false,
    "deletable": true,
    "editable": true
   },
   "outputs": [
    {
     "name": "stdout",
     "output_type": "stream",
     "text": [
      "Percent of mislabeled points out of a total 8005 points : 38.06\n",
      "Percent of mislabeled points out of a total 8005 points : 37.94\n",
      "Percent of mislabeled points out of a total 8005 points : 38.35\n",
      "Percent of mislabeled points out of a total 8005 points : 38.36\n",
      "Percent of mislabeled points out of a total 8005 points : 39.81\n",
      "Percent of mislabeled points out of a total 8005 points : 38.15\n",
      "Percent of mislabeled points out of a total 8004 points : 38.88\n",
      "Percent of mislabeled points out of a total 8004 points : 37.47\n",
      "Percent of mislabeled points out of a total 8004 points : 37.87\n",
      "Percent of mislabeled points out of a total 8004 points : 38.54\n"
     ]
    }
   ],
   "source": [
    "for train_index, test_index in kf.split(train_predictors):\n",
    "    X_train, X_test = train_predictors[train_index], train_predictors[test_index]\n",
    "    y_train, y_test = train_response[train_index], train_response[test_index]\n",
    "    gnb = BernoulliNB()\n",
    "    y_pred = gnb.fit(X_train, y_train).predict(X_test)\n",
    "    print(\"Percent of mislabeled points out of a total %d points : %0.2f\"\n",
    "        % (X_test.shape[0], 100*(y_test != y_pred).sum()/float(X_test.shape[0])))"
   ]
  },
  {
   "cell_type": "markdown",
   "metadata": {
    "deletable": true,
    "editable": true
   },
   "source": [
    "## **KNN Classifier**"
   ]
  },
  {
   "cell_type": "code",
   "execution_count": 15,
   "metadata": {
    "collapsed": false,
    "deletable": true,
    "editable": true
   },
   "outputs": [
    {
     "name": "stdout",
     "output_type": "stream",
     "text": [
      "[0]\n",
      "[[ 0.66666667  0.33333333]]\n"
     ]
    }
   ],
   "source": [
    "#example\n",
    "X = [[0], [1], [2], [3]]\n",
    "y = [0, 0, 1, 1]\n",
    "from sklearn.neighbors import KNeighborsClassifier\n",
    "neigh = KNeighborsClassifier(n_neighbors=3)\n",
    "neigh.fit(X, y) \n",
    "print(neigh.predict([[1.1]]))\n",
    "print(neigh.predict_proba([[0.9]]))"
   ]
  },
  {
   "cell_type": "code",
   "execution_count": 16,
   "metadata": {
    "collapsed": false,
    "deletable": true,
    "editable": true
   },
   "outputs": [
    {
     "name": "stdout",
     "output_type": "stream",
     "text": [
      "Percent of mislabeled points out of a total 80046 points : 38.62\n"
     ]
    }
   ],
   "source": [
    "neigh = KNeighborsClassifier(n_neighbors=50)\n",
    "neigh.fit(train_predictors, train_response) \n",
    "y_pred = neigh.predict(train_predictors)\n",
    "print(\"Percent of mislabeled points out of a total %d points : %0.2f\"\n",
    "    % (Ntrain, 100*(train_response != y_pred).sum()/Ntrain))"
   ]
  },
  {
   "cell_type": "code",
   "execution_count": 22,
   "metadata": {
    "collapsed": false,
    "deletable": true,
    "editable": true
   },
   "outputs": [
    {
     "name": "stdout",
     "output_type": "stream",
     "text": [
      "Percent of mislabeled points out of a total 8004 points : 40.07\n",
      "Percent of mislabeled points out of a total 8004 points : 41.35\n",
      "Percent of mislabeled points out of a total 8004 points : 42.77\n",
      "Percent of mislabeled points out of a total 8004 points : 43.53\n",
      "Percent of mislabeled points out of a total 8004 points : 42.14\n",
      "Percent of mislabeled points out of a total 8004 points : 41.28\n",
      "Percent of mislabeled points out of a total 8004 points : 42.29\n",
      "Percent of mislabeled points out of a total 8004 points : 41.30\n",
      "Percent of mislabeled points out of a total 8004 points : 40.48\n",
      "Percent of mislabeled points out of a total 8004 points : 42.22\n"
     ]
    }
   ],
   "source": [
    "#Todo: loop through values of n_neighbors and find an optimized value\n",
    "for train_index, test_index in kf.split(train_predictors):\n",
    "    x_train, x_test = train_predictors[train_index], train_predictors[test_index]\n",
    "    y_train, y_test = train_response[train_index], train_response[test_index]\n",
    "    neigh = KNeighborsClassifier(n_neighbors=50)\n",
    "    y_pred = neigh.fit(x_train, y_train).predict(x_test)\n",
    "    print(\"Percent of mislabeled points out of a total %d points : %0.2f\"\n",
    "        % (X_test.shape[0], 100*(y_test != y_pred).sum()/float(X_test.shape[0])))"
   ]
  },
  {
   "cell_type": "markdown",
   "metadata": {
    "deletable": true,
    "editable": true
   },
   "source": [
    "## Support Vector Machine\n",
    "### Linear kernel"
   ]
  },
  {
   "cell_type": "code",
   "execution_count": 26,
   "metadata": {
    "collapsed": false,
    "deletable": true,
    "editable": true
   },
   "outputs": [
    {
     "name": "stdout",
     "output_type": "stream",
     "text": [
      "Percent of mislabeled points out of a total 8004 points : 40.44\n",
      "Percent of mislabeled points out of a total 8004 points : 43.82\n",
      "Percent of mislabeled points out of a total 8004 points : 42.62\n",
      "Percent of mislabeled points out of a total 8004 points : 41.37\n",
      "Percent of mislabeled points out of a total 8004 points : 48.69\n",
      "Percent of mislabeled points out of a total 8004 points : 47.20\n",
      "Percent of mislabeled points out of a total 8004 points : 43.35\n",
      "Percent of mislabeled points out of a total 8004 points : 42.28\n",
      "Percent of mislabeled points out of a total 8004 points : 39.06\n",
      "Percent of mislabeled points out of a total 8004 points : 51.70\n"
     ]
    }
   ],
   "source": [
    "from sklearn import svm #Takes fucking forever\n",
    "#Todo: loop through values of n_neighbors and find an optimized value\n",
    "for train_index, test_index in kf.split(train_predictors):\n",
    "    x_train, x_test = train_predictors[train_index], train_predictors[test_index]\n",
    "    y_train, y_test = train_response[train_index], train_response[test_index]\n",
    "    clf = svm.LinearSVC()\n",
    "    y_pred = clf.fit(x_train, y_train).predict(x_test)\n",
    "    print(\"Percent of mislabeled points out of a total %d points : %0.2f\"\n",
    "        % (X_test.shape[0], 100*(y_test != y_pred).sum()/float(X_test.shape[0])))"
   ]
  },
  {
   "cell_type": "code",
   "execution_count": null,
   "metadata": {
    "collapsed": false,
    "deletable": true,
    "editable": true
   },
   "outputs": [],
   "source": [
    "y_pred = clf.predict(train_predictors)"
   ]
  },
  {
   "cell_type": "markdown",
   "metadata": {},
   "source": [
    "## Logistic Regression"
   ]
  },
  {
   "cell_type": "markdown",
   "metadata": {},
   "source": [
    "## Decision Tree"
   ]
  },
  {
   "cell_type": "markdown",
   "metadata": {},
   "source": [
    "## AdaBoosting with Decision Tree"
   ]
  },
  {
   "cell_type": "markdown",
   "metadata": {},
   "source": [
    "## Random Forest"
   ]
  },
  {
   "cell_type": "code",
   "execution_count": 28,
   "metadata": {
    "collapsed": false
   },
   "outputs": [
    {
     "name": "stdout",
     "output_type": "stream",
     "text": [
      "Percent of mislabeled points out of a total 8004 points : 34.46\n",
      "Percent of mislabeled points out of a total 8004 points : 36.94\n",
      "Percent of mislabeled points out of a total 8004 points : 37.42\n",
      "Percent of mislabeled points out of a total 8004 points : 37.07\n",
      "Percent of mislabeled points out of a total 8004 points : 37.73\n",
      "Percent of mislabeled points out of a total 8004 points : 37.27\n",
      "Percent of mislabeled points out of a total 8004 points : 36.64\n",
      "Percent of mislabeled points out of a total 8004 points : 36.51\n",
      "Percent of mislabeled points out of a total 8004 points : 36.22\n",
      "Percent of mislabeled points out of a total 8004 points : 37.42\n"
     ]
    }
   ],
   "source": [
    "from sklearn.ensemble import RandomForestClassifier\n",
    "for train_index, test_index in kf.split(train_predictors):\n",
    "    x_train, x_test = train_predictors[train_index], train_predictors[test_index]\n",
    "    y_train, y_test = train_response[train_index], train_response[test_index]\n",
    "    clf = RandomForestClassifier(n_jobs=2)\n",
    "    y_pred = clf.fit(x_train, y_train).predict(x_test)\n",
    "    print(\"Percent of mislabeled points out of a total %d points : %0.2f\"\n",
    "        % (X_test.shape[0], 100*(y_test != y_pred).sum()/float(X_test.shape[0])))"
   ]
  },
  {
   "cell_type": "code",
   "execution_count": null,
   "metadata": {
    "collapsed": true
   },
   "outputs": [],
   "source": []
  },
  {
   "cell_type": "code",
   "execution_count": null,
   "metadata": {
    "collapsed": true
   },
   "outputs": [],
   "source": []
  },
  {
   "cell_type": "code",
   "execution_count": null,
   "metadata": {
    "collapsed": true
   },
   "outputs": [],
   "source": []
  }
 ],
 "metadata": {
  "kernelspec": {
   "display_name": "Python 2",
   "language": "python",
   "name": "python2"
  },
  "language_info": {
   "codemirror_mode": {
    "name": "ipython",
    "version": 2
   },
   "file_extension": ".py",
   "mimetype": "text/x-python",
   "name": "python",
   "nbconvert_exporter": "python",
   "pygments_lexer": "ipython2",
   "version": "2.7.12"
  }
 },
 "nbformat": 4,
 "nbformat_minor": 2
}
