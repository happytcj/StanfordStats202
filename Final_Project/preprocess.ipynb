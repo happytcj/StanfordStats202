{
 "cells": [
  {
   "cell_type": "code",
   "execution_count": 561,
   "metadata": {
    "collapsed": false,
    "deletable": true,
    "editable": true
   },
   "outputs": [
    {
     "data": {
      "application/javascript": [
       "IPython.notebook.set_autosave_interval(300000)"
      ]
     },
     "metadata": {},
     "output_type": "display_data"
    },
    {
     "name": "stdout",
     "output_type": "stream",
     "text": [
      "Autosaving every 300 seconds\n",
      "The autoreload extension is already loaded. To reload it, use:\n",
      "  %reload_ext autoreload\n"
     ]
    }
   ],
   "source": [
    "import matplotlib.pyplot as plt\n",
    "# import seaborn as sns\n",
    "import numpy as np \n",
    "import os\n",
    "import pandas as pd\n",
    "from scipy import stats\n",
    "%matplotlib inline\n",
    "%autosave 300\n",
    "%load_ext autoreload\n",
    "%autoreload 2\n",
    "\n",
    "from sklearn.preprocessing import scale\n",
    "from sklearn import svm\n",
    "from sklearn.neighbors import KNeighborsClassifier\n",
    "from pandas.tools.plotting import scatter_matrix\n",
    "from sklearn.model_selection import KFold\n",
    "from sklearn.naive_bayes import GaussianNB\n",
    "from sklearn.feature_selection import chi2\n",
    "from pandas.tools.plotting import scatter_matrix\n",
    "from sklearn.ensemble import RandomForestClassifier\n",
    "from sklearn.feature_selection import VarianceThreshold\n",
    "\n",
    "plt.rcParams['figure.figsize'] = (8, 4)\n",
    "# plt.rcParams['font.size'] = 16\n",
    "# plt.rcParams['text.usetex'] = False\n",
    "# plt.rcParams['axes.labelsize'] = plt.rcParams['font.size']\n",
    "# plt.rcParams['axes.titlesize'] = 1.5*plt.rcParams['font.size']\n",
    "# plt.rcParams['legend.fontsize'] = 16\n",
    "# plt.rcParams[\"figure.facecolor\"] = 'white'"
   ]
  },
  {
   "cell_type": "code",
   "execution_count": 325,
   "metadata": {
    "collapsed": false,
    "deletable": true,
    "editable": true
   },
   "outputs": [],
   "source": [
    "df_train = pd.read_csv('/Users/tjiang/Desktop/Personal/Stats202/my_repo/Final_Project/data/training.csv', delimiter=',')\n",
    "df_test = pd.read_csv('/Users/tjiang/Desktop/Personal/Stats202/my_repo/Final_Project/data/test.csv', delimiter=',')"
   ]
  },
  {
   "cell_type": "code",
   "execution_count": 326,
   "metadata": {
    "collapsed": false,
    "deletable": true,
    "editable": true
   },
   "outputs": [
    {
     "data": {
      "text/html": [
       "<div>\n",
       "<table border=\"1\" class=\"dataframe\">\n",
       "  <thead>\n",
       "    <tr style=\"text-align: right;\">\n",
       "      <th></th>\n",
       "      <th>query_id</th>\n",
       "      <th>url_id</th>\n",
       "      <th>query_length</th>\n",
       "      <th>is_homepage</th>\n",
       "      <th>sig1</th>\n",
       "      <th>sig2</th>\n",
       "      <th>sig3</th>\n",
       "      <th>sig4</th>\n",
       "      <th>sig5</th>\n",
       "      <th>sig6</th>\n",
       "      <th>sig7</th>\n",
       "      <th>sig8</th>\n",
       "      <th>relevance</th>\n",
       "    </tr>\n",
       "  </thead>\n",
       "  <tbody>\n",
       "    <tr>\n",
       "      <th>0</th>\n",
       "      <td>4631</td>\n",
       "      <td>28624</td>\n",
       "      <td>2</td>\n",
       "      <td>1</td>\n",
       "      <td>0.09</td>\n",
       "      <td>0.15</td>\n",
       "      <td>1288</td>\n",
       "      <td>352</td>\n",
       "      <td>376</td>\n",
       "      <td>13</td>\n",
       "      <td>0.46</td>\n",
       "      <td>0.35</td>\n",
       "      <td>0</td>\n",
       "    </tr>\n",
       "    <tr>\n",
       "      <th>1</th>\n",
       "      <td>4631</td>\n",
       "      <td>28625</td>\n",
       "      <td>2</td>\n",
       "      <td>1</td>\n",
       "      <td>0.20</td>\n",
       "      <td>0.35</td>\n",
       "      <td>4662</td>\n",
       "      <td>337</td>\n",
       "      <td>666</td>\n",
       "      <td>28</td>\n",
       "      <td>0.43</td>\n",
       "      <td>0.27</td>\n",
       "      <td>1</td>\n",
       "    </tr>\n",
       "    <tr>\n",
       "      <th>2</th>\n",
       "      <td>4631</td>\n",
       "      <td>28626</td>\n",
       "      <td>2</td>\n",
       "      <td>1</td>\n",
       "      <td>0.36</td>\n",
       "      <td>0.49</td>\n",
       "      <td>1121</td>\n",
       "      <td>385</td>\n",
       "      <td>270</td>\n",
       "      <td>15</td>\n",
       "      <td>0.34</td>\n",
       "      <td>0.20</td>\n",
       "      <td>1</td>\n",
       "    </tr>\n",
       "    <tr>\n",
       "      <th>3</th>\n",
       "      <td>4631</td>\n",
       "      <td>28627</td>\n",
       "      <td>2</td>\n",
       "      <td>1</td>\n",
       "      <td>0.21</td>\n",
       "      <td>0.45</td>\n",
       "      <td>2925</td>\n",
       "      <td>478</td>\n",
       "      <td>640</td>\n",
       "      <td>14</td>\n",
       "      <td>0.44</td>\n",
       "      <td>0.33</td>\n",
       "      <td>1</td>\n",
       "    </tr>\n",
       "    <tr>\n",
       "      <th>4</th>\n",
       "      <td>4631</td>\n",
       "      <td>28628</td>\n",
       "      <td>2</td>\n",
       "      <td>1</td>\n",
       "      <td>0.25</td>\n",
       "      <td>0.42</td>\n",
       "      <td>1328</td>\n",
       "      <td>429</td>\n",
       "      <td>412</td>\n",
       "      <td>27</td>\n",
       "      <td>0.40</td>\n",
       "      <td>0.57</td>\n",
       "      <td>1</td>\n",
       "    </tr>\n",
       "  </tbody>\n",
       "</table>\n",
       "</div>"
      ],
      "text/plain": [
       "   query_id  url_id  query_length  is_homepage  sig1  sig2  sig3  sig4  sig5  \\\n",
       "0      4631   28624             2            1  0.09  0.15  1288   352   376   \n",
       "1      4631   28625             2            1  0.20  0.35  4662   337   666   \n",
       "2      4631   28626             2            1  0.36  0.49  1121   385   270   \n",
       "3      4631   28627             2            1  0.21  0.45  2925   478   640   \n",
       "4      4631   28628             2            1  0.25  0.42  1328   429   412   \n",
       "\n",
       "   sig6  sig7  sig8  relevance  \n",
       "0    13  0.46  0.35          0  \n",
       "1    28  0.43  0.27          1  \n",
       "2    15  0.34  0.20          1  \n",
       "3    14  0.44  0.33          1  \n",
       "4    27  0.40  0.57          1  "
      ]
     },
     "execution_count": 326,
     "metadata": {},
     "output_type": "execute_result"
    }
   ],
   "source": [
    "df_train.head()"
   ]
  },
  {
   "cell_type": "code",
   "execution_count": 327,
   "metadata": {
    "collapsed": false,
    "deletable": true,
    "editable": true,
    "scrolled": true
   },
   "outputs": [
    {
     "data": {
      "text/html": [
       "<div>\n",
       "<table border=\"1\" class=\"dataframe\">\n",
       "  <thead>\n",
       "    <tr style=\"text-align: right;\">\n",
       "      <th></th>\n",
       "      <th>query_id</th>\n",
       "      <th>url_id</th>\n",
       "      <th>query_length</th>\n",
       "      <th>is_homepage</th>\n",
       "      <th>sig1</th>\n",
       "      <th>sig2</th>\n",
       "      <th>sig3</th>\n",
       "      <th>sig4</th>\n",
       "      <th>sig5</th>\n",
       "      <th>sig6</th>\n",
       "      <th>sig7</th>\n",
       "      <th>sig8</th>\n",
       "    </tr>\n",
       "  </thead>\n",
       "  <tbody>\n",
       "    <tr>\n",
       "      <th>0</th>\n",
       "      <td>0</td>\n",
       "      <td>0</td>\n",
       "      <td>4</td>\n",
       "      <td>0</td>\n",
       "      <td>0.13</td>\n",
       "      <td>0.33</td>\n",
       "      <td>0</td>\n",
       "      <td>1</td>\n",
       "      <td>0</td>\n",
       "      <td>0</td>\n",
       "      <td>0.19</td>\n",
       "      <td>0.47</td>\n",
       "    </tr>\n",
       "    <tr>\n",
       "      <th>1</th>\n",
       "      <td>0</td>\n",
       "      <td>1</td>\n",
       "      <td>4</td>\n",
       "      <td>0</td>\n",
       "      <td>0.12</td>\n",
       "      <td>0.40</td>\n",
       "      <td>247</td>\n",
       "      <td>477</td>\n",
       "      <td>4</td>\n",
       "      <td>0</td>\n",
       "      <td>0.22</td>\n",
       "      <td>0.59</td>\n",
       "    </tr>\n",
       "    <tr>\n",
       "      <th>2</th>\n",
       "      <td>0</td>\n",
       "      <td>2</td>\n",
       "      <td>4</td>\n",
       "      <td>0</td>\n",
       "      <td>0.15</td>\n",
       "      <td>0.41</td>\n",
       "      <td>303</td>\n",
       "      <td>313</td>\n",
       "      <td>44</td>\n",
       "      <td>0</td>\n",
       "      <td>0.20</td>\n",
       "      <td>0.81</td>\n",
       "    </tr>\n",
       "    <tr>\n",
       "      <th>3</th>\n",
       "      <td>0</td>\n",
       "      <td>3</td>\n",
       "      <td>4</td>\n",
       "      <td>0</td>\n",
       "      <td>0.06</td>\n",
       "      <td>0.35</td>\n",
       "      <td>1035</td>\n",
       "      <td>415</td>\n",
       "      <td>130</td>\n",
       "      <td>0</td>\n",
       "      <td>0.35</td>\n",
       "      <td>0.77</td>\n",
       "    </tr>\n",
       "    <tr>\n",
       "      <th>4</th>\n",
       "      <td>0</td>\n",
       "      <td>51</td>\n",
       "      <td>4</td>\n",
       "      <td>0</td>\n",
       "      <td>0.18</td>\n",
       "      <td>0.33</td>\n",
       "      <td>2</td>\n",
       "      <td>0</td>\n",
       "      <td>0</td>\n",
       "      <td>0</td>\n",
       "      <td>0.21</td>\n",
       "      <td>0.63</td>\n",
       "    </tr>\n",
       "  </tbody>\n",
       "</table>\n",
       "</div>"
      ],
      "text/plain": [
       "   query_id  url_id  query_length  is_homepage  sig1  sig2  sig3  sig4  sig5  \\\n",
       "0         0       0             4            0  0.13  0.33     0     1     0   \n",
       "1         0       1             4            0  0.12  0.40   247   477     4   \n",
       "2         0       2             4            0  0.15  0.41   303   313    44   \n",
       "3         0       3             4            0  0.06  0.35  1035   415   130   \n",
       "4         0      51             4            0  0.18  0.33     2     0     0   \n",
       "\n",
       "   sig6  sig7  sig8  \n",
       "0     0  0.19  0.47  \n",
       "1     0  0.22  0.59  \n",
       "2     0  0.20  0.81  \n",
       "3     0  0.35  0.77  \n",
       "4     0  0.21  0.63  "
      ]
     },
     "execution_count": 327,
     "metadata": {},
     "output_type": "execute_result"
    }
   ],
   "source": [
    "df_test.head()"
   ]
  },
  {
   "cell_type": "markdown",
   "metadata": {
    "deletable": true,
    "editable": true
   },
   "source": [
    "## Begin by visual inspection of data"
   ]
  },
  {
   "cell_type": "code",
   "execution_count": 5,
   "metadata": {
    "collapsed": false,
    "deletable": true,
    "editable": true
   },
   "outputs": [],
   "source": [
    "#Redraw to split predictor color\n",
    "#Takes long time to run\n",
    "# scatter_matrix(df_train, alpha=0.2, figsize=(40, 40), diagonal='hist')\n",
    "pass"
   ]
  },
  {
   "cell_type": "markdown",
   "metadata": {
    "deletable": true,
    "editable": true
   },
   "source": [
    "## Create new feature using query_id"
   ]
  },
  {
   "cell_type": "code",
   "execution_count": 375,
   "metadata": {
    "collapsed": false,
    "deletable": true,
    "editable": true
   },
   "outputs": [],
   "source": [
    "'''ordered the data by query_id and url_id, but reset the value to 1 whenever the previous\n",
    "observation of the url_id was more than one value away from the current observation \n",
    "or if it was a new query_id'''\n",
    "df_train.sort_values(['query_id','url_id'], inplace=True)\n",
    "query_num_list = []\n",
    "previous_url_id = 0\n",
    "current_query_num = 0\n",
    "for i in df_train['url_id']:\n",
    "    if abs(previous_url_id-i) > 1:\n",
    "        current_query_num = 1\n",
    "    else:\n",
    "        current_query_num += 1\n",
    "    query_num_list.append(current_query_num)\n",
    "    previous_url_id = i\n",
    "df_train['query_num'] = query_num_list\n",
    "df_train['query_num'], _ = stats.boxcox(df_train['query_num']+1)"
   ]
  },
  {
   "cell_type": "markdown",
   "metadata": {},
   "source": [
    "## Modify existing features with transforms"
   ]
  },
  {
   "cell_type": "code",
   "execution_count": 374,
   "metadata": {
    "collapsed": false
   },
   "outputs": [],
   "source": [
    "df_train['query_length_tr'] = (df_train['query_length'] + 1).apply(np.log)\n",
    "df_train['sig1_tr'] = df_train['sig1'].apply(np.sqrt)\n",
    "df_train['sig3_tr'] = (df_train['sig3'] + 1).apply(np.log)\n",
    "df_train['sig4_tr'] = (df_train['sig4'] + 1).apply(np.log)\n",
    "df_train['sig5_tr'] = (df_train['sig5'] + 1).apply(np.log)\n",
    "df_train['sig6_tr'], _ = stats.boxcox(df_train['sig6']+1)\n",
    "# df_train['sig6_tr'] = df_train['sig6'].apply(np.cbrt)"
   ]
  },
  {
   "cell_type": "code",
   "execution_count": 376,
   "metadata": {
    "collapsed": false
   },
   "outputs": [
    {
     "data": {
      "text/html": [
       "<div>\n",
       "<table border=\"1\" class=\"dataframe\">\n",
       "  <thead>\n",
       "    <tr style=\"text-align: right;\">\n",
       "      <th></th>\n",
       "      <th>query_id</th>\n",
       "      <th>url_id</th>\n",
       "      <th>query_length</th>\n",
       "      <th>is_homepage</th>\n",
       "      <th>sig1</th>\n",
       "      <th>sig2</th>\n",
       "      <th>sig3</th>\n",
       "      <th>sig4</th>\n",
       "      <th>sig5</th>\n",
       "      <th>sig6</th>\n",
       "      <th>sig7</th>\n",
       "      <th>sig8</th>\n",
       "      <th>relevance</th>\n",
       "      <th>query_num</th>\n",
       "      <th>sig3_tr</th>\n",
       "      <th>sig4_tr</th>\n",
       "      <th>sig5_tr</th>\n",
       "      <th>sig6_tr</th>\n",
       "      <th>query_length_tr</th>\n",
       "      <th>sig1_tr</th>\n",
       "    </tr>\n",
       "  </thead>\n",
       "  <tbody>\n",
       "    <tr>\n",
       "      <th>0</th>\n",
       "      <td>4631</td>\n",
       "      <td>28624</td>\n",
       "      <td>2</td>\n",
       "      <td>1</td>\n",
       "      <td>0.09</td>\n",
       "      <td>0.15</td>\n",
       "      <td>1288</td>\n",
       "      <td>352</td>\n",
       "      <td>376</td>\n",
       "      <td>13</td>\n",
       "      <td>0.46</td>\n",
       "      <td>0.35</td>\n",
       "      <td>0</td>\n",
       "      <td>0.700458</td>\n",
       "      <td>7.161622</td>\n",
       "      <td>5.866468</td>\n",
       "      <td>5.932245</td>\n",
       "      <td>0.985051</td>\n",
       "      <td>1.098612</td>\n",
       "      <td>0.300000</td>\n",
       "    </tr>\n",
       "    <tr>\n",
       "      <th>1</th>\n",
       "      <td>4631</td>\n",
       "      <td>28625</td>\n",
       "      <td>2</td>\n",
       "      <td>1</td>\n",
       "      <td>0.20</td>\n",
       "      <td>0.35</td>\n",
       "      <td>4662</td>\n",
       "      <td>337</td>\n",
       "      <td>666</td>\n",
       "      <td>28</td>\n",
       "      <td>0.43</td>\n",
       "      <td>0.27</td>\n",
       "      <td>1</td>\n",
       "      <td>1.117053</td>\n",
       "      <td>8.447414</td>\n",
       "      <td>5.823046</td>\n",
       "      <td>6.502790</td>\n",
       "      <td>1.030866</td>\n",
       "      <td>1.098612</td>\n",
       "      <td>0.447214</td>\n",
       "    </tr>\n",
       "    <tr>\n",
       "      <th>2</th>\n",
       "      <td>4631</td>\n",
       "      <td>28626</td>\n",
       "      <td>2</td>\n",
       "      <td>1</td>\n",
       "      <td>0.36</td>\n",
       "      <td>0.49</td>\n",
       "      <td>1121</td>\n",
       "      <td>385</td>\n",
       "      <td>270</td>\n",
       "      <td>15</td>\n",
       "      <td>0.34</td>\n",
       "      <td>0.20</td>\n",
       "      <td>1</td>\n",
       "      <td>1.415744</td>\n",
       "      <td>7.022868</td>\n",
       "      <td>5.955837</td>\n",
       "      <td>5.602119</td>\n",
       "      <td>0.995918</td>\n",
       "      <td>1.098612</td>\n",
       "      <td>0.600000</td>\n",
       "    </tr>\n",
       "    <tr>\n",
       "      <th>3</th>\n",
       "      <td>4631</td>\n",
       "      <td>28627</td>\n",
       "      <td>2</td>\n",
       "      <td>1</td>\n",
       "      <td>0.21</td>\n",
       "      <td>0.45</td>\n",
       "      <td>2925</td>\n",
       "      <td>478</td>\n",
       "      <td>640</td>\n",
       "      <td>14</td>\n",
       "      <td>0.44</td>\n",
       "      <td>0.33</td>\n",
       "      <td>1</td>\n",
       "      <td>1.649221</td>\n",
       "      <td>7.981392</td>\n",
       "      <td>6.171701</td>\n",
       "      <td>6.463029</td>\n",
       "      <td>0.990834</td>\n",
       "      <td>1.098612</td>\n",
       "      <td>0.458258</td>\n",
       "    </tr>\n",
       "    <tr>\n",
       "      <th>4</th>\n",
       "      <td>4631</td>\n",
       "      <td>28628</td>\n",
       "      <td>2</td>\n",
       "      <td>1</td>\n",
       "      <td>0.25</td>\n",
       "      <td>0.42</td>\n",
       "      <td>1328</td>\n",
       "      <td>429</td>\n",
       "      <td>412</td>\n",
       "      <td>27</td>\n",
       "      <td>0.40</td>\n",
       "      <td>0.57</td>\n",
       "      <td>1</td>\n",
       "      <td>1.841158</td>\n",
       "      <td>7.192182</td>\n",
       "      <td>6.063785</td>\n",
       "      <td>6.023448</td>\n",
       "      <td>1.029295</td>\n",
       "      <td>1.098612</td>\n",
       "      <td>0.500000</td>\n",
       "    </tr>\n",
       "  </tbody>\n",
       "</table>\n",
       "</div>"
      ],
      "text/plain": [
       "   query_id  url_id  query_length  is_homepage  sig1  sig2  sig3  sig4  sig5  \\\n",
       "0      4631   28624             2            1  0.09  0.15  1288   352   376   \n",
       "1      4631   28625             2            1  0.20  0.35  4662   337   666   \n",
       "2      4631   28626             2            1  0.36  0.49  1121   385   270   \n",
       "3      4631   28627             2            1  0.21  0.45  2925   478   640   \n",
       "4      4631   28628             2            1  0.25  0.42  1328   429   412   \n",
       "\n",
       "   sig6  sig7  sig8  relevance  query_num   sig3_tr   sig4_tr   sig5_tr  \\\n",
       "0    13  0.46  0.35          0   0.700458  7.161622  5.866468  5.932245   \n",
       "1    28  0.43  0.27          1   1.117053  8.447414  5.823046  6.502790   \n",
       "2    15  0.34  0.20          1   1.415744  7.022868  5.955837  5.602119   \n",
       "3    14  0.44  0.33          1   1.649221  7.981392  6.171701  6.463029   \n",
       "4    27  0.40  0.57          1   1.841158  7.192182  6.063785  6.023448   \n",
       "\n",
       "    sig6_tr  query_length_tr   sig1_tr  \n",
       "0  0.985051         1.098612  0.300000  \n",
       "1  1.030866         1.098612  0.447214  \n",
       "2  0.995918         1.098612  0.600000  \n",
       "3  0.990834         1.098612  0.458258  \n",
       "4  1.029295         1.098612  0.500000  "
      ]
     },
     "execution_count": 376,
     "metadata": {},
     "output_type": "execute_result"
    }
   ],
   "source": [
    "df_train.head()"
   ]
  },
  {
   "cell_type": "code",
   "execution_count": 406,
   "metadata": {
    "collapsed": false
   },
   "outputs": [
    {
     "name": "stdout",
     "output_type": "stream",
     "text": [
      "0 query_id\n",
      "1 url_id\n",
      "2 query_length\n",
      "3 is_homepage\n",
      "4 sig1\n",
      "5 sig2\n",
      "6 sig3\n",
      "7 sig4\n",
      "8 sig5\n",
      "9 sig6\n",
      "10 sig7\n",
      "11 sig8\n",
      "12 relevance\n",
      "13 query_num\n",
      "14 sig3_tr\n",
      "15 sig4_tr\n",
      "16 sig5_tr\n",
      "17 sig6_tr\n",
      "18 query_length_tr\n",
      "19 sig1_tr\n"
     ]
    }
   ],
   "source": [
    "for i, v in enumerate(df_train.columns):\n",
    "    print i, v"
   ]
  },
  {
   "cell_type": "code",
   "execution_count": 264,
   "metadata": {
    "collapsed": false
   },
   "outputs": [],
   "source": [
    "# (df_train['sig6']).hist()\n",
    "#https://stats.stackexchange.com/questions/88218/transforming-extremely-skewed-distributions"
   ]
  },
  {
   "cell_type": "code",
   "execution_count": 401,
   "metadata": {
    "collapsed": false
   },
   "outputs": [
    {
     "data": {
      "text/plain": [
       "<matplotlib.axes._subplots.AxesSubplot at 0x12135e110>"
      ]
     },
     "execution_count": 401,
     "metadata": {},
     "output_type": "execute_result"
    },
    {
     "data": {
      "image/png": "[encoded data removed]",
      "text/plain": [
       "<matplotlib.figure.Figure at 0x10c5f3450>"
      ]
     },
     "metadata": {},
     "output_type": "display_data"
    }
   ],
   "source": [
    "(df_train['sig5'] + 1).apply(np.log).hist()"
   ]
  },
  {
   "cell_type": "code",
   "execution_count": 582,
   "metadata": {
    "collapsed": false,
    "deletable": true,
    "editable": true
   },
   "outputs": [],
   "source": [
    "#include all features\n",
    "predictors_idx = [3,5,10,11,13,14,15,16,17,18,19]\n",
    "df_train_predictors = df_train.iloc[:, predictors_idx]\n",
    "train_predictors = df_train.iloc[:, predictors_idx].as_matrix()\n",
    "train_response = df_train['relevance'].as_matrix()"
   ]
  },
  {
   "cell_type": "code",
   "execution_count": 529,
   "metadata": {
    "collapsed": false
   },
   "outputs": [
    {
     "name": "stdout",
     "output_type": "stream",
     "text": [
      "0 is_homepage\n",
      "1 sig2\n",
      "2 sig7\n",
      "3 sig8\n",
      "4 query_num\n",
      "5 sig3_tr\n",
      "6 sig4_tr\n",
      "7 sig5_tr\n",
      "8 sig6_tr\n",
      "9 query_length_tr\n",
      "10 sig1_tr\n"
     ]
    }
   ],
   "source": [
    "for i, v in enumerate(df_train_predictors.columns):\n",
    "    print i, v"
   ]
  },
  {
   "cell_type": "code",
   "execution_count": 518,
   "metadata": {
    "collapsed": false
   },
   "outputs": [
    {
     "name": "stdout",
     "output_type": "stream",
     "text": [
      "[[ 1.          0.70045799  7.161622    5.86646806  5.93224519  0.98505099]\n",
      " [ 1.          1.11705332  8.4474143   5.8230459   6.50279005  1.03086585]\n",
      " [ 1.          1.41574357  7.02286809  5.95583737  5.60211882  0.99591843]\n",
      " ..., \n",
      " [ 0.          3.24001811  5.19295685  2.77258872  4.53259949  0.        ]\n",
      " [ 0.          3.28885521  6.46769873  5.41164605  4.74493213  0.96166631]\n",
      " [ 0.          3.33567502  6.84374995  4.98360662  4.87519732  0.99591843]]\n"
     ]
    }
   ],
   "source": [
    "#feature selection using variance\n",
    "sel = VarianceThreshold(threshold=(.8 * (1 - .8)))\n",
    "print sel.fit_transform(train_predictors)\n",
    "predictors_idx = [3,13,14,15,16,17]\n",
    "df_train_predictors = df_train.iloc[:, predictors_idx]\n",
    "train_predictors = df_train.iloc[:, predictors_idx].as_matrix()\n",
    "train_response = df_train['relevance'].as_matrix()"
   ]
  },
  {
   "cell_type": "code",
   "execution_count": 499,
   "metadata": {
    "collapsed": false
   },
   "outputs": [
    {
     "name": "stdout",
     "output_type": "stream",
     "text": [
      "[  3.55139440e-48   2.16935252e-16   0.00000000e+00   0.00000000e+00\n",
      "   0.00000000e+00   0.00000000e+00]\n"
     ]
    }
   ],
   "source": [
    "scores, pvalues = chi2(train_predictors, train_response)\n",
    "print pvalues"
   ]
  },
  {
   "cell_type": "code",
   "execution_count": 500,
   "metadata": {
    "collapsed": false
   },
   "outputs": [
    {
     "data": {
      "image/png": "[encoded data removed]",
      "text/plain": [
       "<matplotlib.figure.Figure at 0x123aaa890>"
      ]
     },
     "metadata": {},
     "output_type": "display_data"
    }
   ],
   "source": [
    "plt.rcParams['figure.figsize'] = (16, 8)\n",
    "_ = df_train_predictors.hist()\n",
    "plt.rcParams['figure.figsize'] = (8, 4)"
   ]
  },
  {
   "cell_type": "code",
   "execution_count": 501,
   "metadata": {
    "collapsed": false,
    "scrolled": false
   },
   "outputs": [
    {
     "data": {
      "image/png": "[encoded data removed]",
      "text/plain": [
       "<matplotlib.figure.Figure at 0x13b51cbd0>"
      ]
     },
     "metadata": {},
     "output_type": "display_data"
    }
   ],
   "source": [
    "#check correlation between training variables\n",
    "b = np.corrcoef(train_predictors.T)\n",
    "fig, ax = plt.subplots()\n",
    "im = ax.imshow(np.square(b),interpolation='nearest')\n",
    "fig.colorbar(im)\n",
    "ax.set_yticks(range(len(predictors_idx)))\n",
    "ax.set_yticklabels(predictors_idx, rotation='horizontal')\n",
    "ax.set_xticks(range(len(predictors_idx)))\n",
    "ax.set_xticklabels(predictors_idx, rotation='vertical')\n",
    "ax.set_title('Feature Correlation Matrix')\n",
    "pass"
   ]
  },
  {
   "cell_type": "markdown",
   "metadata": {},
   "source": [
    "Scale (Normalize and Standardize) all the predictors"
   ]
  },
  {
   "cell_type": "code",
   "execution_count": 591,
   "metadata": {
    "collapsed": false
   },
   "outputs": [],
   "source": [
    "tmp = (train_predictors-train_predictors.min(axis=0))\n",
    "train_predictors_norm = tmp / tmp.max(axis=0)"
   ]
  },
  {
   "cell_type": "code",
   "execution_count": 592,
   "metadata": {
    "collapsed": false
   },
   "outputs": [],
   "source": [
    "train_predictors_norm = scale(train_predictors_norm)"
   ]
  },
  {
   "cell_type": "markdown",
   "metadata": {
    "deletable": true,
    "editable": true
   },
   "source": [
    "## Random Forest"
   ]
  },
  {
   "cell_type": "code",
   "execution_count": 560,
   "metadata": {
    "collapsed": false,
    "deletable": true,
    "editable": true
   },
   "outputs": [
    {
     "name": "stdout",
     "output_type": "stream",
     "text": [
      "Percent of mislabeled points out of a total 16010 points : 32.80\n",
      "Percent of mislabeled points out of a total 16009 points : 34.09\n",
      "Percent of mislabeled points out of a total 16009 points : 34.26\n",
      "Percent of mislabeled points out of a total 16009 points : 33.75\n",
      "Percent of mislabeled points out of a total 16009 points : 33.65\n"
     ]
    }
   ],
   "source": [
    "#include all features\n",
    "predictors_idx = [5,10,11,13,14,15,16,17,18,19]\n",
    "df_train_predictors = df_train.iloc[:, predictors_idx]\n",
    "train_predictors = df_train.iloc[:, predictors_idx].as_matrix()\n",
    "train_response = df_train['relevance'].as_matrix()\n",
    "\n",
    "for train_index, test_index in kf.split(train_predictors):\n",
    "    x_train, x_test = train_predictors[train_index], train_predictors[test_index]\n",
    "    y_train, y_test = train_response[train_index], train_response[test_index]\n",
    "    clf = RandomForestClassifier(n_jobs=-1, max_features=1, n_estimators=500)\n",
    "    #tuning max_features and n_estimators affected results\n",
    "    y_pred = clf.fit(x_train, y_train).predict(x_test)\n",
    "    print(\"Percent of mislabeled points out of a total %d points : %0.2f\"\n",
    "        % (x_test.shape[0], 100*(y_test != y_pred).sum()/float(x_test.shape[0])))"
   ]
  },
  {
   "cell_type": "code",
   "execution_count": 587,
   "metadata": {
    "collapsed": false
   },
   "outputs": [
    {
     "name": "stdout",
     "output_type": "stream",
     "text": [
      "Percent of mislabeled points out of a total 16010 points : 33.01\n",
      "Percent of mislabeled points out of a total 16009 points : 33.97\n",
      "Percent of mislabeled points out of a total 16009 points : 34.05\n",
      "Percent of mislabeled points out of a total 16009 points : 33.49\n",
      "Percent of mislabeled points out of a total 16009 points : 33.14\n"
     ]
    }
   ],
   "source": [
    "for train_index, test_index in kf.split(train_predictors_norm):\n",
    "    x_train, x_test = train_predictors_norm[train_index], train_predictors_norm[test_index]\n",
    "    y_train, y_test = train_response[train_index], train_response[test_index]\n",
    "    clf = RandomForestClassifier(n_jobs=-1, max_features=1, n_estimators=500)\n",
    "    #tuning max_features and n_estimators affected results\n",
    "    y_pred = clf.fit(x_train, y_train).predict(x_test)\n",
    "    print(\"Percent of mislabeled points out of a total %d points : %0.2f\"\n",
    "        % (x_test.shape[0], 100*(y_test != y_pred).sum()/float(x_test.shape[0])))"
   ]
  },
  {
   "cell_type": "markdown",
   "metadata": {
    "deletable": true,
    "editable": true
   },
   "source": [
    "## Naïve Bayes"
   ]
  },
  {
   "cell_type": "markdown",
   "metadata": {},
   "source": [
    "Features 13 and 15 look correlated; Removing either do not improve cross validation error significantly"
   ]
  },
  {
   "cell_type": "code",
   "execution_count": 274,
   "metadata": {
    "collapsed": false,
    "deletable": true,
    "editable": true
   },
   "outputs": [],
   "source": [
    "Ntrain,Ptrain = map(float, train_predictors.shape)"
   ]
  },
  {
   "cell_type": "code",
   "execution_count": 275,
   "metadata": {
    "collapsed": false,
    "deletable": true,
    "editable": true
   },
   "outputs": [
    {
     "name": "stdout",
     "output_type": "stream",
     "text": [
      "Number of mislabeled points out of a total 150 points : 6\n"
     ]
    }
   ],
   "source": [
    "from sklearn import datasets\n",
    "iris = datasets.load_iris()\n",
    "from sklearn.naive_bayes import GaussianNB\n",
    "gnb = GaussianNB()\n",
    "y_pred = gnb.fit(iris.data, iris.target).predict(iris.data)\n",
    "print(\"Number of mislabeled points out of a total %d points : %d\"\n",
    "    % (iris.data.shape[0],(iris.target != y_pred).sum()))"
   ]
  },
  {
   "cell_type": "code",
   "execution_count": 276,
   "metadata": {
    "collapsed": false,
    "deletable": true,
    "editable": true
   },
   "outputs": [
    {
     "data": {
      "text/plain": [
       "0.95999999999999996"
      ]
     },
     "execution_count": 276,
     "metadata": {},
     "output_type": "execute_result"
    }
   ],
   "source": [
    "gnb.score(iris.data, iris.target)"
   ]
  },
  {
   "cell_type": "markdown",
   "metadata": {
    "deletable": true,
    "editable": true
   },
   "source": [
    "**10-Fold Cross Validation**"
   ]
  },
  {
   "cell_type": "code",
   "execution_count": 590,
   "metadata": {
    "collapsed": false,
    "deletable": true,
    "editable": true
   },
   "outputs": [
    {
     "name": "stdout",
     "output_type": "stream",
     "text": [
      "Percent of mislabeled points out of a total 16010 points : 37.59\n",
      "Percent of mislabeled points out of a total 16009 points : 38.47\n",
      "Percent of mislabeled points out of a total 16009 points : 38.98\n",
      "Percent of mislabeled points out of a total 16009 points : 38.50\n",
      "Percent of mislabeled points out of a total 16009 points : 38.27\n"
     ]
    }
   ],
   "source": [
    "for train_index, test_index in kf.split(train_predictors_norm):\n",
    "    x_train, x_test = train_predictors_norm[train_index], train_predictors_norm[test_index]\n",
    "    y_train, y_test = train_response[train_index], train_response[test_index]\n",
    "    #     print float(np.count_nonzero(y_test))/len(y_test)\n",
    "    gnb = BernoulliNB()\n",
    "    y_pred = gnb.fit(x_train, y_train).predict(x_test)\n",
    "    print(\"Percent of mislabeled points out of a total %d points : %0.2f\"\n",
    "        % (x_test.shape[0], 100*(y_test != y_pred).sum()/float(x_test.shape[0])))"
   ]
  },
  {
   "cell_type": "markdown",
   "metadata": {
    "deletable": true,
    "editable": true
   },
   "source": [
    "## **KNN Classifier**"
   ]
  },
  {
   "cell_type": "code",
   "execution_count": 594,
   "metadata": {
    "collapsed": false
   },
   "outputs": [
    {
     "name": "stdout",
     "output_type": "stream",
     "text": [
      "Percent of mislabeled points out of a total 16010 points : 33.01\n"
     ]
    },
    {
     "ename": "KeyboardInterrupt",
     "evalue": "",
     "output_type": "error",
     "traceback": [
      "\u001b[0;31m---------------------------------------------------------------------------\u001b[0m",
      "\u001b[0;31mKeyboardInterrupt\u001b[0m                         Traceback (most recent call last)",
      "\u001b[0;32m<ipython-input-594-8bbd35542595>\u001b[0m in \u001b[0;36m<module>\u001b[0;34m()\u001b[0m\n\u001b[1;32m     12\u001b[0m \u001b[0;31m#     print float(np.count_nonzero(y_test))/len(y_test)\u001b[0m\u001b[0;34m\u001b[0m\u001b[0;34m\u001b[0m\u001b[0m\n\u001b[1;32m     13\u001b[0m     \u001b[0mneigh\u001b[0m \u001b[0;34m=\u001b[0m \u001b[0mKNeighborsClassifier\u001b[0m\u001b[0;34m(\u001b[0m\u001b[0mn_neighbors\u001b[0m\u001b[0;34m=\u001b[0m\u001b[0;36m150\u001b[0m\u001b[0;34m,\u001b[0m \u001b[0mn_jobs\u001b[0m\u001b[0;34m=\u001b[0m\u001b[0;34m-\u001b[0m\u001b[0;36m1\u001b[0m\u001b[0;34m,\u001b[0m \u001b[0mp\u001b[0m\u001b[0;34m=\u001b[0m\u001b[0;36m2\u001b[0m\u001b[0;34m)\u001b[0m\u001b[0;34m\u001b[0m\u001b[0m\n\u001b[0;32m---> 14\u001b[0;31m     \u001b[0my_pred\u001b[0m \u001b[0;34m=\u001b[0m \u001b[0mneigh\u001b[0m\u001b[0;34m.\u001b[0m\u001b[0mfit\u001b[0m\u001b[0;34m(\u001b[0m\u001b[0mx_train\u001b[0m\u001b[0;34m,\u001b[0m \u001b[0my_train\u001b[0m\u001b[0;34m)\u001b[0m\u001b[0;34m.\u001b[0m\u001b[0mpredict\u001b[0m\u001b[0;34m(\u001b[0m\u001b[0mx_test\u001b[0m\u001b[0;34m)\u001b[0m\u001b[0;34m\u001b[0m\u001b[0m\n\u001b[0m\u001b[1;32m     15\u001b[0m     print(\"Percent of mislabeled points out of a total %d points : %0.2f\"\n\u001b[1;32m     16\u001b[0m         % (x_test.shape[0], 100*(y_test != y_pred).sum()/float(x_test.shape[0])))\n",
      "\u001b[0;32m/usr/local/lib/python2.7/site-packages/sklearn/neighbors/classification.pyc\u001b[0m in \u001b[0;36mpredict\u001b[0;34m(self, X)\u001b[0m\n\u001b[1;32m    143\u001b[0m         \u001b[0mX\u001b[0m \u001b[0;34m=\u001b[0m \u001b[0mcheck_array\u001b[0m\u001b[0;34m(\u001b[0m\u001b[0mX\u001b[0m\u001b[0;34m,\u001b[0m \u001b[0maccept_sparse\u001b[0m\u001b[0;34m=\u001b[0m\u001b[0;34m'csr'\u001b[0m\u001b[0;34m)\u001b[0m\u001b[0;34m\u001b[0m\u001b[0m\n\u001b[1;32m    144\u001b[0m \u001b[0;34m\u001b[0m\u001b[0m\n\u001b[0;32m--> 145\u001b[0;31m         \u001b[0mneigh_dist\u001b[0m\u001b[0;34m,\u001b[0m \u001b[0mneigh_ind\u001b[0m \u001b[0;34m=\u001b[0m \u001b[0mself\u001b[0m\u001b[0;34m.\u001b[0m\u001b[0mkneighbors\u001b[0m\u001b[0;34m(\u001b[0m\u001b[0mX\u001b[0m\u001b[0;34m)\u001b[0m\u001b[0;34m\u001b[0m\u001b[0m\n\u001b[0m\u001b[1;32m    146\u001b[0m \u001b[0;34m\u001b[0m\u001b[0m\n\u001b[1;32m    147\u001b[0m         \u001b[0mclasses_\u001b[0m \u001b[0;34m=\u001b[0m \u001b[0mself\u001b[0m\u001b[0;34m.\u001b[0m\u001b[0mclasses_\u001b[0m\u001b[0;34m\u001b[0m\u001b[0m\n",
      "\u001b[0;32m/usr/local/lib/python2.7/site-packages/sklearn/neighbors/base.pyc\u001b[0m in \u001b[0;36mkneighbors\u001b[0;34m(self, X, n_neighbors, return_distance)\u001b[0m\n\u001b[1;32m    379\u001b[0m                 delayed(self._tree.query, check_pickle=False)(\n\u001b[1;32m    380\u001b[0m                     X[s], n_neighbors, return_distance)\n\u001b[0;32m--> 381\u001b[0;31m                 \u001b[0;32mfor\u001b[0m \u001b[0ms\u001b[0m \u001b[0;32min\u001b[0m \u001b[0mgen_even_slices\u001b[0m\u001b[0;34m(\u001b[0m\u001b[0mX\u001b[0m\u001b[0;34m.\u001b[0m\u001b[0mshape\u001b[0m\u001b[0;34m[\u001b[0m\u001b[0;36m0\u001b[0m\u001b[0;34m]\u001b[0m\u001b[0;34m,\u001b[0m \u001b[0mn_jobs\u001b[0m\u001b[0;34m)\u001b[0m\u001b[0;34m\u001b[0m\u001b[0m\n\u001b[0m\u001b[1;32m    382\u001b[0m             )\n\u001b[1;32m    383\u001b[0m             \u001b[0;32mif\u001b[0m \u001b[0mreturn_distance\u001b[0m\u001b[0;34m:\u001b[0m\u001b[0;34m\u001b[0m\u001b[0m\n",
      "\u001b[0;32m/usr/local/lib/python2.7/site-packages/sklearn/externals/joblib/parallel.pyc\u001b[0m in \u001b[0;36m__call__\u001b[0;34m(self, iterable)\u001b[0m\n\u001b[1;32m    766\u001b[0m                 \u001b[0;31m# consumption.\u001b[0m\u001b[0;34m\u001b[0m\u001b[0;34m\u001b[0m\u001b[0m\n\u001b[1;32m    767\u001b[0m                 \u001b[0mself\u001b[0m\u001b[0;34m.\u001b[0m\u001b[0m_iterating\u001b[0m \u001b[0;34m=\u001b[0m \u001b[0mFalse\u001b[0m\u001b[0;34m\u001b[0m\u001b[0m\n\u001b[0;32m--> 768\u001b[0;31m             \u001b[0mself\u001b[0m\u001b[0;34m.\u001b[0m\u001b[0mretrieve\u001b[0m\u001b[0;34m(\u001b[0m\u001b[0;34m)\u001b[0m\u001b[0;34m\u001b[0m\u001b[0m\n\u001b[0m\u001b[1;32m    769\u001b[0m             \u001b[0;31m# Make sure that we get a last message telling us we are done\u001b[0m\u001b[0;34m\u001b[0m\u001b[0;34m\u001b[0m\u001b[0m\n\u001b[1;32m    770\u001b[0m             \u001b[0melapsed_time\u001b[0m \u001b[0;34m=\u001b[0m \u001b[0mtime\u001b[0m\u001b[0;34m.\u001b[0m\u001b[0mtime\u001b[0m\u001b[0;34m(\u001b[0m\u001b[0;34m)\u001b[0m \u001b[0;34m-\u001b[0m \u001b[0mself\u001b[0m\u001b[0;34m.\u001b[0m\u001b[0m_start_time\u001b[0m\u001b[0;34m\u001b[0m\u001b[0m\n",
      "\u001b[0;32m/usr/local/lib/python2.7/site-packages/sklearn/externals/joblib/parallel.pyc\u001b[0m in \u001b[0;36mretrieve\u001b[0;34m(self)\u001b[0m\n\u001b[1;32m    717\u001b[0m                     \u001b[0mensure_ready\u001b[0m \u001b[0;34m=\u001b[0m \u001b[0mself\u001b[0m\u001b[0;34m.\u001b[0m\u001b[0m_managed_backend\u001b[0m\u001b[0;34m\u001b[0m\u001b[0m\n\u001b[1;32m    718\u001b[0m                     \u001b[0mbackend\u001b[0m\u001b[0;34m.\u001b[0m\u001b[0mabort_everything\u001b[0m\u001b[0;34m(\u001b[0m\u001b[0mensure_ready\u001b[0m\u001b[0;34m=\u001b[0m\u001b[0mensure_ready\u001b[0m\u001b[0;34m)\u001b[0m\u001b[0;34m\u001b[0m\u001b[0m\n\u001b[0;32m--> 719\u001b[0;31m                 \u001b[0;32mraise\u001b[0m \u001b[0mexception\u001b[0m\u001b[0;34m\u001b[0m\u001b[0m\n\u001b[0m\u001b[1;32m    720\u001b[0m \u001b[0;34m\u001b[0m\u001b[0m\n\u001b[1;32m    721\u001b[0m     \u001b[0;32mdef\u001b[0m \u001b[0m__call__\u001b[0m\u001b[0;34m(\u001b[0m\u001b[0mself\u001b[0m\u001b[0;34m,\u001b[0m \u001b[0miterable\u001b[0m\u001b[0;34m)\u001b[0m\u001b[0;34m:\u001b[0m\u001b[0;34m\u001b[0m\u001b[0m\n",
      "\u001b[0;31mKeyboardInterrupt\u001b[0m: "
     ]
    }
   ],
   "source": [
    "predictors_idx = [3, 5,10,11,13,14,15,16,17,18,19]\n",
    "df_train_predictors = df_train.iloc[:, predictors_idx]\n",
    "train_predictors = df_train.iloc[:, predictors_idx].as_matrix()\n",
    "train_response = df_train['relevance'].as_matrix()\n",
    "tmp = (train_predictors-train_predictors.min(axis=0))\n",
    "train_predictors_norm = tmp / tmp.max(axis=0)\n",
    "train_predictors_norm = scale(train_predictors_norm)\n",
    "\n",
    "for train_index, test_index in kf.split(train_predictors_norm):\n",
    "    x_train, x_test = train_predictors_norm[train_index], train_predictors_norm[test_index]\n",
    "    y_train, y_test = train_response[train_index], train_response[test_index]\n",
    "#     print float(np.count_nonzero(y_test))/len(y_test)\n",
    "    neigh = KNeighborsClassifier(n_neighbors=150, n_jobs=-1, p=2)\n",
    "    y_pred = neigh.fit(x_train, y_train).predict(x_test)\n",
    "    print(\"Percent of mislabeled points out of a total %d points : %0.2f\"\n",
    "        % (x_test.shape[0], 100*(y_test != y_pred).sum()/float(x_test.shape[0])))"
   ]
  },
  {
   "cell_type": "markdown",
   "metadata": {
    "deletable": true,
    "editable": true
   },
   "source": [
    "# Support Vector Machine\n",
    "### Linear kernel"
   ]
  },
  {
   "cell_type": "code",
   "execution_count": 559,
   "metadata": {
    "collapsed": false
   },
   "outputs": [
    {
     "name": "stdout",
     "output_type": "stream",
     "text": [
      "Percent of mislabeled points out of a total 16010 points : 33.45\n",
      "Percent of mislabeled points out of a total 16009 points : 34.92\n",
      "Percent of mislabeled points out of a total 16009 points : 34.91\n",
      "Percent of mislabeled points out of a total 16009 points : 34.37\n",
      "Percent of mislabeled points out of a total 16009 points : 33.73\n"
     ]
    }
   ],
   "source": [
    "for train_index, test_index in kf.split(train_predictors):\n",
    "    x_train, x_test = train_predictors[train_index], train_predictors[test_index]\n",
    "    y_train, y_test = train_response[train_index], train_response[test_index]\n",
    "    clf = svm.SVC()\n",
    "    y_pred = clf.fit(x_train, y_train).predict(x_test)\n",
    "    print(\"Percent of mislabeled points out of a total %d points : %0.2f\"\n",
    "        % (x_test.shape[0], 100*(y_test != y_pred).sum()/float(x_test.shape[0])))"
   ]
  },
  {
   "cell_type": "code",
   "execution_count": 588,
   "metadata": {
    "collapsed": false
   },
   "outputs": [
    {
     "name": "stdout",
     "output_type": "stream",
     "text": [
      "Percent of mislabeled points out of a total 16010 points : 32.77\n",
      "Percent of mislabeled points out of a total 16009 points : 34.07\n",
      "Percent of mislabeled points out of a total 16009 points : 34.12\n",
      "Percent of mislabeled points out of a total 16009 points : 33.27\n",
      "Percent of mislabeled points out of a total 16009 points : 32.94\n"
     ]
    }
   ],
   "source": [
    "for train_index, test_index in kf.split(train_predictors_norm):\n",
    "    x_train, x_test = train_predictors_norm[train_index], train_predictors_norm[test_index]\n",
    "    y_train, y_test = train_response[train_index], train_response[test_index]\n",
    "    clf = svm.SVC()\n",
    "    y_pred = clf.fit(x_train, y_train).predict(x_test)\n",
    "    print(\"Percent of mislabeled points out of a total %d points : %0.2f\"\n",
    "        % (x_test.shape[0], 100*(y_test != y_pred).sum()/float(x_test.shape[0])))"
   ]
  },
  {
   "cell_type": "markdown",
   "metadata": {
    "deletable": true,
    "editable": true
   },
   "source": [
    "## Logistic Regression"
   ]
  },
  {
   "cell_type": "markdown",
   "metadata": {
    "deletable": true,
    "editable": true
   },
   "source": [
    "## Decision Tree"
   ]
  },
  {
   "cell_type": "markdown",
   "metadata": {
    "deletable": true,
    "editable": true
   },
   "source": [
    "## AdaBoosting with Decision Tree"
   ]
  },
  {
   "cell_type": "code",
   "execution_count": null,
   "metadata": {
    "collapsed": true,
    "deletable": true,
    "editable": true
   },
   "outputs": [],
   "source": []
  },
  {
   "cell_type": "code",
   "execution_count": null,
   "metadata": {
    "collapsed": true,
    "deletable": true,
    "editable": true
   },
   "outputs": [],
   "source": []
  },
  {
   "cell_type": "code",
   "execution_count": null,
   "metadata": {
    "collapsed": true,
    "deletable": true,
    "editable": true
   },
   "outputs": [],
   "source": []
  }
 ],
 "metadata": {
  "kernelspec": {
   "display_name": "Python 2",
   "language": "python",
   "name": "python2"
  },
  "language_info": {
   "codemirror_mode": {
    "name": "ipython",
    "version": 2
   },
   "file_extension": ".py",
   "mimetype": "text/x-python",
   "name": "python",
   "nbconvert_exporter": "python",
   "pygments_lexer": "ipython2",
   "version": "2.7.12"
  }
 },
 "nbformat": 4,
 "nbformat_minor": 2
}
