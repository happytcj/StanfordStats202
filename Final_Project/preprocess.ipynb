{
 "cells": [
  {
   "cell_type": "code",
   "execution_count": 162,
   "metadata": {
    "collapsed": false,
    "deletable": true,
    "editable": true
   },
   "outputs": [
    {
     "data": {
      "application/javascript": [
       "IPython.notebook.set_autosave_interval(300000)"
      ]
     },
     "metadata": {},
     "output_type": "display_data"
    },
    {
     "name": "stdout",
     "output_type": "stream",
     "text": [
      "Autosaving every 300 seconds\n",
      "The autoreload extension is already loaded. To reload it, use:\n",
      "  %reload_ext autoreload\n"
     ]
    }
   ],
   "source": [
    "import matplotlib.pyplot as plt\n",
    "# import seaborn as sns\n",
    "import numpy as np \n",
    "import os\n",
    "import pandas as pd\n",
    "from scipy import stats\n",
    "%matplotlib inline\n",
    "%autosave 300\n",
    "%load_ext autoreload\n",
    "%autoreload 2\n",
    "from sklearn.preprocessing import scale\n",
    "from sklearn import svm\n",
    "from sklearn.neighbors import KNeighborsClassifier\n",
    "from pandas.tools.plotting import scatter_matrix\n",
    "from sklearn.naive_bayes import GaussianNB\n",
    "from sklearn.naive_bayes import BernoulliNB\n",
    "from sklearn.feature_selection import chi2\n",
    "from pandas.tools.plotting import scatter_matrix\n",
    "from sklearn.ensemble import RandomForestClassifier\n",
    "from sklearn.ensemble import AdaBoostClassifier\n",
    "from sklearn.feature_selection import VarianceThreshold\n",
    "from sklearn import linear_model\n",
    "\n",
    "plt.rcParams['figure.figsize'] = (8, 4)\n",
    "# plt.rcParams['font.size'] = 16\n",
    "# plt.rcParams['text.usetex'] = False\n",
    "# plt.rcParams['axes.labelsize'] = plt.rcParams['font.size']\n",
    "# plt.rcParams['axes.titlesize'] = 1.5*plt.rcParams['font.size']\n",
    "# plt.rcParams['legend.fontsize'] = 16\n",
    "# plt.rcParams[\"figure.facecolor\"] = 'white'"
   ]
  },
  {
   "cell_type": "code",
   "execution_count": 178,
   "metadata": {
    "collapsed": false,
    "deletable": true,
    "editable": true
   },
   "outputs": [],
   "source": [
    "from sklearn.model_selection import KFold\n",
    "num_splits = 10.0\n",
    "kf = KFold(n_splits=int(num_splits))"
   ]
  },
  {
   "cell_type": "code",
   "execution_count": 3,
   "metadata": {
    "collapsed": false,
    "deletable": true,
    "editable": true
   },
   "outputs": [],
   "source": [
    "df_train = pd.read_csv('/Users/tjiang/Desktop/Personal/Stats202/my_repo/Final_Project/data/training.csv', delimiter=',')\n",
    "df_test = pd.read_csv('/Users/tjiang/Desktop/Personal/Stats202/my_repo/Final_Project/data/test.csv', delimiter=',')"
   ]
  },
  {
   "cell_type": "code",
   "execution_count": 4,
   "metadata": {
    "collapsed": false,
    "deletable": true,
    "editable": true
   },
   "outputs": [
    {
     "data": {
      "text/html": [
       "<div>\n",
       "<table border=\"1\" class=\"dataframe\">\n",
       "  <thead>\n",
       "    <tr style=\"text-align: right;\">\n",
       "      <th></th>\n",
       "      <th>query_id</th>\n",
       "      <th>url_id</th>\n",
       "      <th>query_length</th>\n",
       "      <th>is_homepage</th>\n",
       "      <th>sig1</th>\n",
       "      <th>sig2</th>\n",
       "      <th>sig3</th>\n",
       "      <th>sig4</th>\n",
       "      <th>sig5</th>\n",
       "      <th>sig6</th>\n",
       "      <th>sig7</th>\n",
       "      <th>sig8</th>\n",
       "      <th>relevance</th>\n",
       "    </tr>\n",
       "  </thead>\n",
       "  <tbody>\n",
       "    <tr>\n",
       "      <th>0</th>\n",
       "      <td>4631</td>\n",
       "      <td>28624</td>\n",
       "      <td>2</td>\n",
       "      <td>1</td>\n",
       "      <td>0.09</td>\n",
       "      <td>0.15</td>\n",
       "      <td>1288</td>\n",
       "      <td>352</td>\n",
       "      <td>376</td>\n",
       "      <td>13</td>\n",
       "      <td>0.46</td>\n",
       "      <td>0.35</td>\n",
       "      <td>0</td>\n",
       "    </tr>\n",
       "    <tr>\n",
       "      <th>1</th>\n",
       "      <td>4631</td>\n",
       "      <td>28625</td>\n",
       "      <td>2</td>\n",
       "      <td>1</td>\n",
       "      <td>0.20</td>\n",
       "      <td>0.35</td>\n",
       "      <td>4662</td>\n",
       "      <td>337</td>\n",
       "      <td>666</td>\n",
       "      <td>28</td>\n",
       "      <td>0.43</td>\n",
       "      <td>0.27</td>\n",
       "      <td>1</td>\n",
       "    </tr>\n",
       "    <tr>\n",
       "      <th>2</th>\n",
       "      <td>4631</td>\n",
       "      <td>28626</td>\n",
       "      <td>2</td>\n",
       "      <td>1</td>\n",
       "      <td>0.36</td>\n",
       "      <td>0.49</td>\n",
       "      <td>1121</td>\n",
       "      <td>385</td>\n",
       "      <td>270</td>\n",
       "      <td>15</td>\n",
       "      <td>0.34</td>\n",
       "      <td>0.20</td>\n",
       "      <td>1</td>\n",
       "    </tr>\n",
       "    <tr>\n",
       "      <th>3</th>\n",
       "      <td>4631</td>\n",
       "      <td>28627</td>\n",
       "      <td>2</td>\n",
       "      <td>1</td>\n",
       "      <td>0.21</td>\n",
       "      <td>0.45</td>\n",
       "      <td>2925</td>\n",
       "      <td>478</td>\n",
       "      <td>640</td>\n",
       "      <td>14</td>\n",
       "      <td>0.44</td>\n",
       "      <td>0.33</td>\n",
       "      <td>1</td>\n",
       "    </tr>\n",
       "    <tr>\n",
       "      <th>4</th>\n",
       "      <td>4631</td>\n",
       "      <td>28628</td>\n",
       "      <td>2</td>\n",
       "      <td>1</td>\n",
       "      <td>0.25</td>\n",
       "      <td>0.42</td>\n",
       "      <td>1328</td>\n",
       "      <td>429</td>\n",
       "      <td>412</td>\n",
       "      <td>27</td>\n",
       "      <td>0.40</td>\n",
       "      <td>0.57</td>\n",
       "      <td>1</td>\n",
       "    </tr>\n",
       "  </tbody>\n",
       "</table>\n",
       "</div>"
      ],
      "text/plain": [
       "   query_id  url_id  query_length  is_homepage  sig1  sig2  sig3  sig4  sig5  \\\n",
       "0      4631   28624             2            1  0.09  0.15  1288   352   376   \n",
       "1      4631   28625             2            1  0.20  0.35  4662   337   666   \n",
       "2      4631   28626             2            1  0.36  0.49  1121   385   270   \n",
       "3      4631   28627             2            1  0.21  0.45  2925   478   640   \n",
       "4      4631   28628             2            1  0.25  0.42  1328   429   412   \n",
       "\n",
       "   sig6  sig7  sig8  relevance  \n",
       "0    13  0.46  0.35          0  \n",
       "1    28  0.43  0.27          1  \n",
       "2    15  0.34  0.20          1  \n",
       "3    14  0.44  0.33          1  \n",
       "4    27  0.40  0.57          1  "
      ]
     },
     "execution_count": 4,
     "metadata": {},
     "output_type": "execute_result"
    }
   ],
   "source": [
    "df_train.head()"
   ]
  },
  {
   "cell_type": "code",
   "execution_count": 5,
   "metadata": {
    "collapsed": false,
    "deletable": true,
    "editable": true,
    "scrolled": true
   },
   "outputs": [
    {
     "data": {
      "text/html": [
       "<div>\n",
       "<table border=\"1\" class=\"dataframe\">\n",
       "  <thead>\n",
       "    <tr style=\"text-align: right;\">\n",
       "      <th></th>\n",
       "      <th>query_id</th>\n",
       "      <th>url_id</th>\n",
       "      <th>query_length</th>\n",
       "      <th>is_homepage</th>\n",
       "      <th>sig1</th>\n",
       "      <th>sig2</th>\n",
       "      <th>sig3</th>\n",
       "      <th>sig4</th>\n",
       "      <th>sig5</th>\n",
       "      <th>sig6</th>\n",
       "      <th>sig7</th>\n",
       "      <th>sig8</th>\n",
       "    </tr>\n",
       "  </thead>\n",
       "  <tbody>\n",
       "    <tr>\n",
       "      <th>0</th>\n",
       "      <td>0</td>\n",
       "      <td>0</td>\n",
       "      <td>4</td>\n",
       "      <td>0</td>\n",
       "      <td>0.13</td>\n",
       "      <td>0.33</td>\n",
       "      <td>0</td>\n",
       "      <td>1</td>\n",
       "      <td>0</td>\n",
       "      <td>0</td>\n",
       "      <td>0.19</td>\n",
       "      <td>0.47</td>\n",
       "    </tr>\n",
       "    <tr>\n",
       "      <th>1</th>\n",
       "      <td>0</td>\n",
       "      <td>1</td>\n",
       "      <td>4</td>\n",
       "      <td>0</td>\n",
       "      <td>0.12</td>\n",
       "      <td>0.40</td>\n",
       "      <td>247</td>\n",
       "      <td>477</td>\n",
       "      <td>4</td>\n",
       "      <td>0</td>\n",
       "      <td>0.22</td>\n",
       "      <td>0.59</td>\n",
       "    </tr>\n",
       "    <tr>\n",
       "      <th>2</th>\n",
       "      <td>0</td>\n",
       "      <td>2</td>\n",
       "      <td>4</td>\n",
       "      <td>0</td>\n",
       "      <td>0.15</td>\n",
       "      <td>0.41</td>\n",
       "      <td>303</td>\n",
       "      <td>313</td>\n",
       "      <td>44</td>\n",
       "      <td>0</td>\n",
       "      <td>0.20</td>\n",
       "      <td>0.81</td>\n",
       "    </tr>\n",
       "    <tr>\n",
       "      <th>3</th>\n",
       "      <td>0</td>\n",
       "      <td>3</td>\n",
       "      <td>4</td>\n",
       "      <td>0</td>\n",
       "      <td>0.06</td>\n",
       "      <td>0.35</td>\n",
       "      <td>1035</td>\n",
       "      <td>415</td>\n",
       "      <td>130</td>\n",
       "      <td>0</td>\n",
       "      <td>0.35</td>\n",
       "      <td>0.77</td>\n",
       "    </tr>\n",
       "    <tr>\n",
       "      <th>4</th>\n",
       "      <td>0</td>\n",
       "      <td>51</td>\n",
       "      <td>4</td>\n",
       "      <td>0</td>\n",
       "      <td>0.18</td>\n",
       "      <td>0.33</td>\n",
       "      <td>2</td>\n",
       "      <td>0</td>\n",
       "      <td>0</td>\n",
       "      <td>0</td>\n",
       "      <td>0.21</td>\n",
       "      <td>0.63</td>\n",
       "    </tr>\n",
       "  </tbody>\n",
       "</table>\n",
       "</div>"
      ],
      "text/plain": [
       "   query_id  url_id  query_length  is_homepage  sig1  sig2  sig3  sig4  sig5  \\\n",
       "0         0       0             4            0  0.13  0.33     0     1     0   \n",
       "1         0       1             4            0  0.12  0.40   247   477     4   \n",
       "2         0       2             4            0  0.15  0.41   303   313    44   \n",
       "3         0       3             4            0  0.06  0.35  1035   415   130   \n",
       "4         0      51             4            0  0.18  0.33     2     0     0   \n",
       "\n",
       "   sig6  sig7  sig8  \n",
       "0     0  0.19  0.47  \n",
       "1     0  0.22  0.59  \n",
       "2     0  0.20  0.81  \n",
       "3     0  0.35  0.77  \n",
       "4     0  0.21  0.63  "
      ]
     },
     "execution_count": 5,
     "metadata": {},
     "output_type": "execute_result"
    }
   ],
   "source": [
    "df_test.head()"
   ]
  },
  {
   "cell_type": "markdown",
   "metadata": {
    "deletable": true,
    "editable": true
   },
   "source": [
    "## Begin by visual inspection of data"
   ]
  },
  {
   "cell_type": "code",
   "execution_count": 6,
   "metadata": {
    "collapsed": false,
    "deletable": true,
    "editable": true
   },
   "outputs": [],
   "source": [
    "#Redraw to split predictor color\n",
    "#Takes long time to run\n",
    "# scatter_matrix(df_train, alpha=0.2, figsize=(40, 40), diagonal='hist')\n",
    "pass"
   ]
  },
  {
   "cell_type": "markdown",
   "metadata": {
    "deletable": true,
    "editable": true
   },
   "source": [
    "## Create new feature using query_id"
   ]
  },
  {
   "cell_type": "code",
   "execution_count": 7,
   "metadata": {
    "collapsed": false,
    "deletable": true,
    "editable": true
   },
   "outputs": [],
   "source": [
    "'''ordered the data by query_id and url_id, but reset the value to 1 whenever the previous\n",
    "observation of the url_id was more than one value away from the current observation \n",
    "or if it was a new query_id'''\n",
    "df_train.sort_values(['query_id','url_id'], inplace=True)\n",
    "query_num_list = []\n",
    "num_queries_list = []\n",
    "previous_url_id = 0\n",
    "current_query_num = 0\n",
    "for i in df_train['url_id']:\n",
    "    if abs(previous_url_id-i) > 1:\n",
    "        tally = current_query_num + 1\n",
    "#         for j in xrange(tally):\n",
    "#             num_queries_list.append(tally)\n",
    "        current_query_num = 1\n",
    "    else:\n",
    "        current_query_num += 1\n",
    "    query_num_list.append(current_query_num)\n",
    "    previous_url_id = i\n",
    "df_train['query_num'] = query_num_list\n",
    "df_train['query_num'], _ = stats.boxcox(df_train['query_num']+1)"
   ]
  },
  {
   "cell_type": "code",
   "execution_count": 32,
   "metadata": {
    "collapsed": false,
    "deletable": true,
    "editable": true
   },
   "outputs": [
    {
     "name": "stdout",
     "output_type": "stream",
     "text": [
      "80046\n"
     ]
    }
   ],
   "source": [
    "num_queries_list = []\n",
    "prev_val = 0\n",
    "tally = 0\n",
    "for idx, val in enumerate(query_num_list):\n",
    "    if prev_val < val:\n",
    "        tally += 1\n",
    "    elif prev_val == val:\n",
    "        num_queries_list.append(1)\n",
    "        tally = 1\n",
    "    else:\n",
    "        for j in xrange(tally):\n",
    "            num_queries_list.append(tally)\n",
    "        tally = 1\n",
    "    prev_val = val\n",
    "    \n",
    "for j in xrange(tally):\n",
    "    num_queries_list.append(tally)\n",
    "print len(num_queries_list)"
   ]
  },
  {
   "cell_type": "markdown",
   "metadata": {
    "deletable": true,
    "editable": true
   },
   "source": [
    "## Modify existing features with transforms"
   ]
  },
  {
   "cell_type": "code",
   "execution_count": 91,
   "metadata": {
    "collapsed": false,
    "deletable": true,
    "editable": true
   },
   "outputs": [],
   "source": [
    "df_train['query_length_tr'] = (df_train['query_length'] + 1).apply(np.log)\n",
    "df_train['sig1_tr'] = df_train['sig1'].apply(np.sqrt)\n",
    "df_train['sig3_tr'] = (df_train['sig3'] + 1).apply(np.log)\n",
    "df_train['sig4_tr'] = (df_train['sig4'] + 1).apply(np.log)\n",
    "df_train['sig5_tr'] = (df_train['sig5'] + 1).apply(np.log)\n",
    "df_train['sig6_tr'], _ = stats.boxcox(df_train['sig6']+1)\n",
    "df_train['num_queries'] = (pd.DataFrame(num_queries_list).apply(np.log))"
   ]
  },
  {
   "cell_type": "code",
   "execution_count": 77,
   "metadata": {
    "collapsed": false,
    "deletable": true,
    "editable": true
   },
   "outputs": [
    {
     "data": {
      "text/html": [
       "<div>\n",
       "<table border=\"1\" class=\"dataframe\">\n",
       "  <thead>\n",
       "    <tr style=\"text-align: right;\">\n",
       "      <th></th>\n",
       "      <th>query_id</th>\n",
       "      <th>url_id</th>\n",
       "      <th>query_length</th>\n",
       "      <th>is_homepage</th>\n",
       "      <th>sig1</th>\n",
       "      <th>sig2</th>\n",
       "      <th>sig3</th>\n",
       "      <th>sig4</th>\n",
       "      <th>sig5</th>\n",
       "      <th>sig6</th>\n",
       "      <th>...</th>\n",
       "      <th>sig8</th>\n",
       "      <th>relevance</th>\n",
       "      <th>query_num</th>\n",
       "      <th>query_length_tr</th>\n",
       "      <th>sig1_tr</th>\n",
       "      <th>sig3_tr</th>\n",
       "      <th>sig4_tr</th>\n",
       "      <th>sig5_tr</th>\n",
       "      <th>sig6_tr</th>\n",
       "      <th>num_queries</th>\n",
       "    </tr>\n",
       "  </thead>\n",
       "  <tbody>\n",
       "    <tr>\n",
       "      <th>0</th>\n",
       "      <td>4631</td>\n",
       "      <td>28624</td>\n",
       "      <td>2</td>\n",
       "      <td>1</td>\n",
       "      <td>0.09</td>\n",
       "      <td>0.15</td>\n",
       "      <td>1288</td>\n",
       "      <td>352</td>\n",
       "      <td>376</td>\n",
       "      <td>13</td>\n",
       "      <td>...</td>\n",
       "      <td>0.35</td>\n",
       "      <td>0</td>\n",
       "      <td>0.700458</td>\n",
       "      <td>1.098612</td>\n",
       "      <td>0.300000</td>\n",
       "      <td>7.161622</td>\n",
       "      <td>5.866468</td>\n",
       "      <td>5.932245</td>\n",
       "      <td>0.985051</td>\n",
       "      <td>2.410142</td>\n",
       "    </tr>\n",
       "    <tr>\n",
       "      <th>1</th>\n",
       "      <td>4631</td>\n",
       "      <td>28625</td>\n",
       "      <td>2</td>\n",
       "      <td>1</td>\n",
       "      <td>0.20</td>\n",
       "      <td>0.35</td>\n",
       "      <td>4662</td>\n",
       "      <td>337</td>\n",
       "      <td>666</td>\n",
       "      <td>28</td>\n",
       "      <td>...</td>\n",
       "      <td>0.27</td>\n",
       "      <td>1</td>\n",
       "      <td>1.117053</td>\n",
       "      <td>1.098612</td>\n",
       "      <td>0.447214</td>\n",
       "      <td>8.447414</td>\n",
       "      <td>5.823046</td>\n",
       "      <td>6.502790</td>\n",
       "      <td>1.030866</td>\n",
       "      <td>2.410142</td>\n",
       "    </tr>\n",
       "    <tr>\n",
       "      <th>2</th>\n",
       "      <td>4631</td>\n",
       "      <td>28626</td>\n",
       "      <td>2</td>\n",
       "      <td>1</td>\n",
       "      <td>0.36</td>\n",
       "      <td>0.49</td>\n",
       "      <td>1121</td>\n",
       "      <td>385</td>\n",
       "      <td>270</td>\n",
       "      <td>15</td>\n",
       "      <td>...</td>\n",
       "      <td>0.20</td>\n",
       "      <td>1</td>\n",
       "      <td>1.415744</td>\n",
       "      <td>1.098612</td>\n",
       "      <td>0.600000</td>\n",
       "      <td>7.022868</td>\n",
       "      <td>5.955837</td>\n",
       "      <td>5.602119</td>\n",
       "      <td>0.995918</td>\n",
       "      <td>2.410142</td>\n",
       "    </tr>\n",
       "    <tr>\n",
       "      <th>3</th>\n",
       "      <td>4631</td>\n",
       "      <td>28627</td>\n",
       "      <td>2</td>\n",
       "      <td>1</td>\n",
       "      <td>0.21</td>\n",
       "      <td>0.45</td>\n",
       "      <td>2925</td>\n",
       "      <td>478</td>\n",
       "      <td>640</td>\n",
       "      <td>14</td>\n",
       "      <td>...</td>\n",
       "      <td>0.33</td>\n",
       "      <td>1</td>\n",
       "      <td>1.649221</td>\n",
       "      <td>1.098612</td>\n",
       "      <td>0.458258</td>\n",
       "      <td>7.981392</td>\n",
       "      <td>6.171701</td>\n",
       "      <td>6.463029</td>\n",
       "      <td>0.990834</td>\n",
       "      <td>2.410142</td>\n",
       "    </tr>\n",
       "    <tr>\n",
       "      <th>4</th>\n",
       "      <td>4631</td>\n",
       "      <td>28628</td>\n",
       "      <td>2</td>\n",
       "      <td>1</td>\n",
       "      <td>0.25</td>\n",
       "      <td>0.42</td>\n",
       "      <td>1328</td>\n",
       "      <td>429</td>\n",
       "      <td>412</td>\n",
       "      <td>27</td>\n",
       "      <td>...</td>\n",
       "      <td>0.57</td>\n",
       "      <td>1</td>\n",
       "      <td>1.841158</td>\n",
       "      <td>1.098612</td>\n",
       "      <td>0.500000</td>\n",
       "      <td>7.192182</td>\n",
       "      <td>6.063785</td>\n",
       "      <td>6.023448</td>\n",
       "      <td>1.029295</td>\n",
       "      <td>2.410142</td>\n",
       "    </tr>\n",
       "  </tbody>\n",
       "</table>\n",
       "<p>5 rows × 21 columns</p>\n",
       "</div>"
      ],
      "text/plain": [
       "   query_id  url_id  query_length  is_homepage  sig1  sig2  sig3  sig4  sig5  \\\n",
       "0      4631   28624             2            1  0.09  0.15  1288   352   376   \n",
       "1      4631   28625             2            1  0.20  0.35  4662   337   666   \n",
       "2      4631   28626             2            1  0.36  0.49  1121   385   270   \n",
       "3      4631   28627             2            1  0.21  0.45  2925   478   640   \n",
       "4      4631   28628             2            1  0.25  0.42  1328   429   412   \n",
       "\n",
       "   sig6     ...       sig8  relevance  query_num  query_length_tr   sig1_tr  \\\n",
       "0    13     ...       0.35          0   0.700458         1.098612  0.300000   \n",
       "1    28     ...       0.27          1   1.117053         1.098612  0.447214   \n",
       "2    15     ...       0.20          1   1.415744         1.098612  0.600000   \n",
       "3    14     ...       0.33          1   1.649221         1.098612  0.458258   \n",
       "4    27     ...       0.57          1   1.841158         1.098612  0.500000   \n",
       "\n",
       "    sig3_tr   sig4_tr   sig5_tr   sig6_tr  num_queries  \n",
       "0  7.161622  5.866468  5.932245  0.985051     2.410142  \n",
       "1  8.447414  5.823046  6.502790  1.030866     2.410142  \n",
       "2  7.022868  5.955837  5.602119  0.995918     2.410142  \n",
       "3  7.981392  6.171701  6.463029  0.990834     2.410142  \n",
       "4  7.192182  6.063785  6.023448  1.029295     2.410142  \n",
       "\n",
       "[5 rows x 21 columns]"
      ]
     },
     "execution_count": 77,
     "metadata": {},
     "output_type": "execute_result"
    }
   ],
   "source": [
    "df_train.head()"
   ]
  },
  {
   "cell_type": "code",
   "execution_count": 78,
   "metadata": {
    "collapsed": false,
    "deletable": true,
    "editable": true
   },
   "outputs": [
    {
     "name": "stdout",
     "output_type": "stream",
     "text": [
      "0 query_id\n",
      "1 url_id\n",
      "2 query_length\n",
      "3 is_homepage\n",
      "4 sig1\n",
      "5 sig2\n",
      "6 sig3\n",
      "7 sig4\n",
      "8 sig5\n",
      "9 sig6\n",
      "10 sig7\n",
      "11 sig8\n",
      "12 relevance\n",
      "13 query_num\n",
      "14 query_length_tr\n",
      "15 sig1_tr\n",
      "16 sig3_tr\n",
      "17 sig4_tr\n",
      "18 sig5_tr\n",
      "19 sig6_tr\n",
      "20 num_queries\n"
     ]
    }
   ],
   "source": [
    "for i, v in enumerate(df_train.columns):\n",
    "    print i, v"
   ]
  },
  {
   "cell_type": "code",
   "execution_count": 79,
   "metadata": {
    "collapsed": false,
    "deletable": true,
    "editable": true
   },
   "outputs": [],
   "source": [
    "# (df_train['sig6']).hist()\n",
    "#https://stats.stackexchange.com/questions/88218/transforming-extremely-skewed-distributions"
   ]
  },
  {
   "cell_type": "code",
   "execution_count": 80,
   "metadata": {
    "collapsed": false,
    "deletable": true,
    "editable": true
   },
   "outputs": [
    {
     "data": {
      "text/plain": [
       "<matplotlib.axes._subplots.AxesSubplot at 0x11069f850>"
      ]
     },
     "execution_count": 80,
     "metadata": {},
     "output_type": "execute_result"
    },
    {
     "data": {
      "image/png": "[encoded data removed]",
      "text/plain": [
       "<matplotlib.figure.Figure at 0x114b57050>"
      ]
     },
     "metadata": {},
     "output_type": "display_data"
    }
   ],
   "source": [
    "(df_train['sig5'] + 1).apply(np.log).hist()"
   ]
  },
  {
   "cell_type": "code",
   "execution_count": 81,
   "metadata": {
    "collapsed": false
   },
   "outputs": [
    {
     "data": {
      "text/plain": [
       "<matplotlib.axes._subplots.AxesSubplot at 0x114451650>"
      ]
     },
     "execution_count": 81,
     "metadata": {},
     "output_type": "execute_result"
    },
    {
     "data": {
      "image/png": "[encoded data removed]",
      "text/plain": [
       "<matplotlib.figure.Figure at 0x11489c690>"
      ]
     },
     "metadata": {},
     "output_type": "display_data"
    }
   ],
   "source": [
    "# (df_train['num_queries'] + 1).apply(np.log).hist()\n",
    "df_train['num_queries'].hist()"
   ]
  },
  {
   "cell_type": "code",
   "execution_count": 107,
   "metadata": {
    "collapsed": false,
    "deletable": true,
    "editable": true
   },
   "outputs": [],
   "source": [
    "#include all features\n",
    "predictors_idx = [3,5,10,11,13,14,15,16,17,18,19,20]\n",
    "df_train_predictors = df_train.iloc[:, predictors_idx]\n",
    "train_predictors = df_train.iloc[:, predictors_idx].as_matrix()\n",
    "train_response = df_train['relevance'].as_matrix()"
   ]
  },
  {
   "cell_type": "code",
   "execution_count": 176,
   "metadata": {
    "collapsed": false,
    "deletable": true,
    "editable": true,
    "scrolled": true
   },
   "outputs": [
    {
     "name": "stdout",
     "output_type": "stream",
     "text": [
      "0 is_homepage\n",
      "1 sig2\n",
      "2 sig7\n",
      "3 sig8\n",
      "4 query_num\n",
      "5 query_length_tr\n",
      "6 sig1_tr\n",
      "7 sig3_tr\n",
      "8 sig4_tr\n",
      "9 sig5_tr\n",
      "10 sig6_tr\n",
      "11 num_queries\n",
      "\n",
      "number of total predictors: 12\n"
     ]
    }
   ],
   "source": [
    "for i, v in enumerate(df_train_predictors.columns):\n",
    "    print i, v\n",
    "print '\\nnumber of total predictors: %d'%len(df_train_predictors.columns)"
   ]
  },
  {
   "cell_type": "code",
   "execution_count": 109,
   "metadata": {
    "collapsed": false,
    "deletable": true,
    "editable": true
   },
   "outputs": [],
   "source": [
    "#feature selection using variance\n",
    "# sel = VarianceThreshold(threshold=(.8 * (1 - .8)))\n",
    "# print sel.fit_transform(train_predictors)\n",
    "# predictors_idx = [3,13,14,15,16,17]\n",
    "# df_train_predictors = df_train.iloc[:, predictors_idx]\n",
    "# train_predictors = df_train.iloc[:, predictors_idx].as_matrix()\n",
    "# train_response = df_train['relevance'].as_matrix()"
   ]
  },
  {
   "cell_type": "code",
   "execution_count": 110,
   "metadata": {
    "collapsed": false,
    "deletable": true,
    "editable": true
   },
   "outputs": [
    {
     "name": "stdout",
     "output_type": "stream",
     "text": [
      "[  3.55139440e-048   1.01367351e-141   2.06290623e-030   6.19746296e-003\n",
      "   2.16935252e-016   2.95175930e-001   1.04898970e-040   0.00000000e+000\n",
      "   0.00000000e+000   0.00000000e+000   0.00000000e+000   8.36721082e-009]\n"
     ]
    }
   ],
   "source": [
    "scores, pvalues = chi2(train_predictors, train_response)\n",
    "print pvalues"
   ]
  },
  {
   "cell_type": "code",
   "execution_count": 179,
   "metadata": {
    "collapsed": false,
    "deletable": true,
    "editable": true
   },
   "outputs": [
    {
     "data": {
      "image/png": "[encoded data removed]",
      "text/plain": [
       "<matplotlib.figure.Figure at 0x10eddae50>"
      ]
     },
     "metadata": {},
     "output_type": "display_data"
    }
   ],
   "source": [
    "plt.rcParams['figure.figsize'] = (16, 8)\n",
    "_ = df_train_predictors.hist()\n",
    "plt.rcParams['figure.figsize'] = (8, 4)"
   ]
  },
  {
   "cell_type": "code",
   "execution_count": 112,
   "metadata": {
    "collapsed": false,
    "deletable": true,
    "editable": true,
    "scrolled": false
   },
   "outputs": [
    {
     "data": {
      "image/png": "[encoded data removed]",
      "text/plain": [
       "<matplotlib.figure.Figure at 0x10edf9ad0>"
      ]
     },
     "metadata": {},
     "output_type": "display_data"
    }
   ],
   "source": [
    "#check correlation between training variables\n",
    "b = np.corrcoef(train_predictors.T)\n",
    "fig, ax = plt.subplots()\n",
    "im = ax.imshow(np.square(b),interpolation='nearest')\n",
    "fig.colorbar(im)\n",
    "ax.set_yticks(range(len(predictors_idx)))\n",
    "ax.set_yticklabels(predictors_idx, rotation='horizontal')\n",
    "ax.set_xticks(range(len(predictors_idx)))\n",
    "ax.set_xticklabels(predictors_idx, rotation='vertical')\n",
    "ax.set_title('Feature Correlation Matrix')\n",
    "pass"
   ]
  },
  {
   "cell_type": "markdown",
   "metadata": {
    "deletable": true,
    "editable": true
   },
   "source": [
    "Scale (Normalize and Standardize) all the predictors"
   ]
  },
  {
   "cell_type": "code",
   "execution_count": 113,
   "metadata": {
    "collapsed": false,
    "deletable": true,
    "editable": true
   },
   "outputs": [],
   "source": [
    "tmp = (train_predictors-train_predictors.min(axis=0))\n",
    "train_predictors_norm = tmp / tmp.max(axis=0)"
   ]
  },
  {
   "cell_type": "code",
   "execution_count": 114,
   "metadata": {
    "collapsed": false,
    "deletable": true,
    "editable": true
   },
   "outputs": [],
   "source": [
    "train_predictors_norm = scale(train_predictors_norm)"
   ]
  },
  {
   "cell_type": "markdown",
   "metadata": {
    "deletable": true,
    "editable": true
   },
   "source": [
    "## Random Forest"
   ]
  },
  {
   "cell_type": "code",
   "execution_count": 180,
   "metadata": {
    "collapsed": false,
    "deletable": true,
    "editable": true
   },
   "outputs": [
    {
     "name": "stdout",
     "output_type": "stream",
     "text": [
      "avg misclassification: 33.31\n"
     ]
    }
   ],
   "source": [
    "tmp = (train_predictors-train_predictors.min(axis=0))\n",
    "train_predictors_norm = tmp / tmp.max(axis=0)\n",
    "train_predictors_norm = scale(train_predictors_norm)\n",
    "percent_misclassified=0\n",
    "for train_index, test_index in kf.split(train_predictors_norm):\n",
    "    x_train, x_test = train_predictors_norm[train_index], train_predictors_norm[test_index]\n",
    "    y_train, y_test = train_response[train_index], train_response[test_index]\n",
    "    clf = RandomForestClassifier(n_jobs=-1, max_features=1, n_estimators=500)\n",
    "    y_pred = clf.fit(x_train, y_train).predict(x_test)\n",
    "    percent_misclassified+=100*(y_test != y_pred).sum()/float(x_test.shape[0])\n",
    "#     print(\"mislabeled out of %d obs : %0.2f\"% (x_test.shape[0], 100*(y_test != y_pred).sum()/float(x_test.shape[0])))\n",
    "print(\"avg misclassification: %0.2f\"%float(percent_misclassified/num_splits))"
   ]
  },
  {
   "cell_type": "markdown",
   "metadata": {
    "deletable": true,
    "editable": true
   },
   "source": [
    "## Naïve Bayes"
   ]
  },
  {
   "cell_type": "markdown",
   "metadata": {
    "deletable": true,
    "editable": true
   },
   "source": [
    "Features 13 and 15 look correlated; Removing either do not improve cross validation error significantly"
   ]
  },
  {
   "cell_type": "code",
   "execution_count": 274,
   "metadata": {
    "collapsed": false,
    "deletable": true,
    "editable": true
   },
   "outputs": [],
   "source": [
    "Ntrain,Ptrain = map(float, train_predictors.shape)"
   ]
  },
  {
   "cell_type": "code",
   "execution_count": 275,
   "metadata": {
    "collapsed": false,
    "deletable": true,
    "editable": true
   },
   "outputs": [
    {
     "name": "stdout",
     "output_type": "stream",
     "text": [
      "Number of mislabeled points out of a total 150 points : 6\n"
     ]
    }
   ],
   "source": [
    "from sklearn import datasets\n",
    "iris = datasets.load_iris()\n",
    "from sklearn.naive_bayes import GaussianNB\n",
    "gnb = GaussianNB()\n",
    "y_pred = gnb.fit(iris.data, iris.target).predict(iris.data)\n",
    "print(\"Number of mislabeled points out of a total %d points : %d\"\n",
    "    % (iris.data.shape[0],(iris.target != y_pred).sum()))"
   ]
  },
  {
   "cell_type": "code",
   "execution_count": 276,
   "metadata": {
    "collapsed": false,
    "deletable": true,
    "editable": true
   },
   "outputs": [
    {
     "data": {
      "text/plain": [
       "0.95999999999999996"
      ]
     },
     "execution_count": 276,
     "metadata": {},
     "output_type": "execute_result"
    }
   ],
   "source": [
    "gnb.score(iris.data, iris.target)"
   ]
  },
  {
   "cell_type": "markdown",
   "metadata": {
    "deletable": true,
    "editable": true
   },
   "source": [
    "**10-Fold Cross Validation**"
   ]
  },
  {
   "cell_type": "code",
   "execution_count": 181,
   "metadata": {
    "collapsed": false,
    "deletable": true,
    "editable": true
   },
   "outputs": [
    {
     "name": "stdout",
     "output_type": "stream",
     "text": [
      "avg misclassification: 38.36\n"
     ]
    }
   ],
   "source": [
    "percent_misclassified = 0\n",
    "for train_index, test_index in kf.split(train_predictors_norm):\n",
    "    x_train, x_test = train_predictors_norm[train_index], train_predictors_norm[test_index]\n",
    "    y_train, y_test = train_response[train_index], train_response[test_index]\n",
    "    #     print float(np.count_nonzero(y_test))/len(y_test)\n",
    "    gnb = BernoulliNB()\n",
    "    y_pred = gnb.fit(x_train, y_train).predict(x_test)\n",
    "    percent_misclassified+=100*(y_test != y_pred).sum()/float(x_test.shape[0])\n",
    "print(\"avg misclassification: %0.2f\"%float(percent_misclassified/num_splits))"
   ]
  },
  {
   "cell_type": "markdown",
   "metadata": {
    "deletable": true,
    "editable": true
   },
   "source": [
    "## **KNN Classifier**"
   ]
  },
  {
   "cell_type": "code",
   "execution_count": 182,
   "metadata": {
    "collapsed": false,
    "deletable": true,
    "editable": true
   },
   "outputs": [
    {
     "name": "stdout",
     "output_type": "stream",
     "text": [
      "avg misclassification: 33.50\n"
     ]
    }
   ],
   "source": [
    "percent_misclassified = 0\n",
    "predictors_idx = [3,5,10,11,13,14,15,16,17,18,19,20]\n",
    "df_train_predictors = df_train.iloc[:, predictors_idx]\n",
    "train_predictors = df_train.iloc[:, predictors_idx].as_matrix()\n",
    "train_response = df_train['relevance'].as_matrix()\n",
    "tmp = (train_predictors-train_predictors.min(axis=0))\n",
    "train_predictors_norm = tmp / tmp.max(axis=0)\n",
    "train_predictors_norm = scale(train_predictors_norm)\n",
    "\n",
    "for train_index, test_index in kf.split(train_predictors_norm):\n",
    "    x_train, x_test = train_predictors_norm[train_index], train_predictors_norm[test_index]\n",
    "    y_train, y_test = train_response[train_index], train_response[test_index]\n",
    "#     print float(np.count_nonzero(y_test))/len(y_test)\n",
    "    neigh = KNeighborsClassifier(n_neighbors=150, n_jobs=-1)\n",
    "    y_pred = neigh.fit(x_train, y_train).predict(x_test)\n",
    "    percent_misclassified+=100*(y_test != y_pred).sum()/float(x_test.shape[0])\n",
    "print(\"avg misclassification: %0.2f\"%float(percent_misclassified/num_splits))"
   ]
  },
  {
   "cell_type": "markdown",
   "metadata": {
    "deletable": true,
    "editable": true
   },
   "source": [
    "# Support Vector Machine"
   ]
  },
  {
   "cell_type": "code",
   "execution_count": 172,
   "metadata": {
    "collapsed": false,
    "deletable": true,
    "editable": true
   },
   "outputs": [
    {
     "name": "stdout",
     "output_type": "stream",
     "text": [
      "avg misclassification: 33.21\n"
     ]
    }
   ],
   "source": [
    "percent_misclassified = 0\n",
    "for train_index, test_index in kf.split(train_predictors_norm):\n",
    "    x_train, x_test = train_predictors_norm[train_index], train_predictors_norm[test_index]\n",
    "    y_train, y_test = train_response[train_index], train_response[test_index]\n",
    "    clf = svm.SVC(C=2)\n",
    "    y_pred = clf.fit(x_train, y_train).predict(x_test)\n",
    "    percent_misclassified+=100*(y_test != y_pred).sum()/float(x_test.shape[0])\n",
    "print(\"avg misclassification: %0.2f\"%float(percent_misclassified/num_splits))"
   ]
  },
  {
   "cell_type": "markdown",
   "metadata": {
    "deletable": true,
    "editable": true
   },
   "source": [
    "## Logistic Regression"
   ]
  },
  {
   "cell_type": "code",
   "execution_count": 170,
   "metadata": {
    "collapsed": false
   },
   "outputs": [
    {
     "name": "stdout",
     "output_type": "stream",
     "text": [
      "avg misclassification: 34.05\n"
     ]
    }
   ],
   "source": [
    "percent_misclassified = 0\n",
    "predictors_idx = [3,5,10,11,13,14,15,16,17,18,19,20]\n",
    "df_train_predictors = df_train.iloc[:, predictors_idx]\n",
    "train_predictors = df_train.iloc[:, predictors_idx].as_matrix()\n",
    "train_response = df_train['relevance'].as_matrix()\n",
    "tmp = (train_predictors-train_predictors.min(axis=0))\n",
    "train_predictors_norm = tmp / tmp.max(axis=0)\n",
    "train_predictors_norm = scale(train_predictors_norm)\n",
    "\n",
    "for train_index, test_index in kf.split(train_predictors_norm):\n",
    "    x_train, x_test = train_predictors_norm[train_index], train_predictors_norm[test_index]\n",
    "    y_train, y_test = train_response[train_index], train_response[test_index]\n",
    "    clf = linear_model.LogisticRegression()\n",
    "    y_pred = clf.fit(x_train, y_train).predict(x_test)\n",
    "    percent_misclassified+=100*(y_test != y_pred).sum()/float(x_test.shape[0])\n",
    "print(\"avg misclassification: %0.2f\"%float(percent_misclassified/num_splits))"
   ]
  },
  {
   "cell_type": "markdown",
   "metadata": {
    "deletable": true,
    "editable": true
   },
   "source": [
    "## Decision Tree"
   ]
  },
  {
   "cell_type": "markdown",
   "metadata": {
    "deletable": true,
    "editable": true
   },
   "source": [
    "## AdaBoosting with Decision Tree"
   ]
  },
  {
   "cell_type": "code",
   "execution_count": 165,
   "metadata": {
    "collapsed": false
   },
   "outputs": [
    {
     "name": "stdout",
     "output_type": "stream",
     "text": [
      "avg misclassification: 33.76\n"
     ]
    }
   ],
   "source": [
    "percent_misclassified = 0\n",
    "predictors_idx = [3,5,10,11,13,14,15,16,17,18,19,20]\n",
    "df_train_predictors = df_train.iloc[:, predictors_idx]\n",
    "train_predictors = df_train.iloc[:, predictors_idx].as_matrix()\n",
    "train_response = df_train['relevance'].as_matrix()\n",
    "tmp = (train_predictors-train_predictors.min(axis=0))\n",
    "train_predictors_norm = tmp / tmp.max(axis=0)\n",
    "train_predictors_norm = scale(train_predictors_norm)\n",
    "\n",
    "for train_index, test_index in kf.split(train_predictors_norm):\n",
    "    x_train, x_test = train_predictors_norm[train_index], train_predictors_norm[test_index]\n",
    "    y_train, y_test = train_response[train_index], train_response[test_index]\n",
    "    clf = AdaBoostClassifier(n_estimators=100)\n",
    "    y_pred = clf.fit(x_train, y_train).predict(x_test)\n",
    "    percent_misclassified+=100*(y_test != y_pred).sum()/float(x_test.shape[0])\n",
    "print(\"avg misclassification: %0.2f\"%float(percent_misclassified/num_splits))"
   ]
  },
  {
   "cell_type": "code",
   "execution_count": null,
   "metadata": {
    "collapsed": true,
    "deletable": true,
    "editable": true
   },
   "outputs": [],
   "source": []
  },
  {
   "cell_type": "code",
   "execution_count": null,
   "metadata": {
    "collapsed": true,
    "deletable": true,
    "editable": true
   },
   "outputs": [],
   "source": []
  },
  {
   "cell_type": "code",
   "execution_count": null,
   "metadata": {
    "collapsed": true,
    "deletable": true,
    "editable": true
   },
   "outputs": [],
   "source": []
  }
 ],
 "metadata": {
  "kernelspec": {
   "display_name": "Python 2",
   "language": "python",
   "name": "python2"
  },
  "language_info": {
   "codemirror_mode": {
    "name": "ipython",
    "version": 2
   },
   "file_extension": ".py",
   "mimetype": "text/x-python",
   "name": "python",
   "nbconvert_exporter": "python",
   "pygments_lexer": "ipython2",
   "version": "2.7.12"
  }
 },
 "nbformat": 4,
 "nbformat_minor": 2
}
